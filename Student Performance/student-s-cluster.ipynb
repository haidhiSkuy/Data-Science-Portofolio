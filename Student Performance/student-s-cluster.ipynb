{
 "cells": [
  {
   "cell_type": "markdown",
   "id": "8b228913",
   "metadata": {
    "papermill": {
     "duration": 0.028669,
     "end_time": "2022-03-29T12:39:18.597534",
     "exception": false,
     "start_time": "2022-03-29T12:39:18.568865",
     "status": "completed"
    },
    "tags": []
   },
   "source": [
    "# Pendahuluan\n",
    "Data Science merupakan sebuah bidang gabungan dari teknologi informasi dan statistika yang sedang tren pada akhir-akhir ini, hampir seluruh sektor membutuhkan seorang data scientist untuk memecahkan masalah mereka. Seperti bidang pertanian, kedokteran, dan pendidikan. \n",
    "\n",
    "Berikut Merupakan contoh data science sederhana di bidang pendidikan, saya akan membuat clustering atau pengelompokan bedasarkan nilai ujian siswa. Hasil clustering tersebut diharapkan dapat membantu para pengajar untuk mengambil langkah yang tepat untuk membimbing siswanya."
   ]
  },
  {
   "cell_type": "markdown",
   "id": "2244cfdc",
   "metadata": {
    "papermill": {
     "duration": 0.025274,
     "end_time": "2022-03-29T12:39:18.652453",
     "exception": false,
     "start_time": "2022-03-29T12:39:18.627179",
     "status": "completed"
    },
    "tags": []
   },
   "source": [
    "# Cleaning Data"
   ]
  },
  {
   "cell_type": "code",
   "execution_count": 1,
   "id": "924e629e",
   "metadata": {
    "execution": {
     "iopub.execute_input": "2022-03-29T12:39:18.707480Z",
     "iopub.status.busy": "2022-03-29T12:39:18.706376Z",
     "iopub.status.idle": "2022-03-29T12:39:18.754119Z",
     "shell.execute_reply": "2022-03-29T12:39:18.754856Z",
     "shell.execute_reply.started": "2022-03-29T12:33:43.828339Z"
    },
    "papermill": {
     "duration": 0.077512,
     "end_time": "2022-03-29T12:39:18.755217",
     "exception": false,
     "start_time": "2022-03-29T12:39:18.677705",
     "status": "completed"
    },
    "tags": []
   },
   "outputs": [
    {
     "name": "stdout",
     "output_type": "stream",
     "text": [
      "Sample 5 data teratas :\n",
      "    gender race/ethnicity parental level of education         lunch  \\\n",
      "0  female        group B           bachelor's degree      standard   \n",
      "1  female        group C                some college      standard   \n",
      "2  female        group B             master's degree      standard   \n",
      "3    male        group A          associate's degree  free/reduced   \n",
      "4    male        group C                some college      standard   \n",
      "\n",
      "  test preparation course  math score  reading score  writing score  \n",
      "0                    none          72             72             74  \n",
      "1               completed          69             90             88  \n",
      "2                    none          90             95             93  \n",
      "3                    none          47             57             44  \n",
      "4                    none          76             78             75  \n",
      "****************************************\n",
      "<class 'pandas.core.frame.DataFrame'>\n",
      "RangeIndex: 1000 entries, 0 to 999\n",
      "Data columns (total 8 columns):\n",
      " #   Column                       Non-Null Count  Dtype \n",
      "---  ------                       --------------  ----- \n",
      " 0   gender                       1000 non-null   object\n",
      " 1   race/ethnicity               1000 non-null   object\n",
      " 2   parental level of education  1000 non-null   object\n",
      " 3   lunch                        1000 non-null   object\n",
      " 4   test preparation course      1000 non-null   object\n",
      " 5   math score                   1000 non-null   int64 \n",
      " 6   reading score                1000 non-null   int64 \n",
      " 7   writing score                1000 non-null   int64 \n",
      "dtypes: int64(3), object(5)\n",
      "memory usage: 62.6+ KB\n",
      "Info data :\n",
      " None\n",
      "**************************************** \n",
      "\n",
      "\n"
     ]
    }
   ],
   "source": [
    "#Import Library Yang Dibutuhkan \n",
    "import pandas as pd \n",
    "import matplotlib.pyplot as plt  \n",
    "\n",
    "#Import Data\n",
    "df = pd.read_csv('../input/students-performance-in-exams/StudentsPerformance.csv') \n",
    "\n",
    "#Lihat sample data dan Info data \n",
    "print('Sample 5 data teratas :\\n',df.head())\n",
    "print(20*'**')\n",
    "print('Info data :\\n',df.info())\n",
    "print(20*'**','\\n\\n')"
   ]
  },
  {
   "cell_type": "markdown",
   "id": "781b1f81",
   "metadata": {
    "papermill": {
     "duration": 0.025605,
     "end_time": "2022-03-29T12:39:18.808198",
     "exception": false,
     "start_time": "2022-03-29T12:39:18.782593",
     "status": "completed"
    },
    "tags": []
   },
   "source": [
    "# Cek Missing Value dan Data Duplikat"
   ]
  },
  {
   "cell_type": "code",
   "execution_count": 2,
   "id": "97e88ae7",
   "metadata": {
    "execution": {
     "iopub.execute_input": "2022-03-29T12:39:18.872819Z",
     "iopub.status.busy": "2022-03-29T12:39:18.870286Z",
     "iopub.status.idle": "2022-03-29T12:39:18.877420Z",
     "shell.execute_reply": "2022-03-29T12:39:18.878031Z",
     "shell.execute_reply.started": "2022-03-29T12:33:43.990215Z"
    },
    "papermill": {
     "duration": 0.044165,
     "end_time": "2022-03-29T12:39:18.878202",
     "exception": false,
     "start_time": "2022-03-29T12:39:18.834037",
     "status": "completed"
    },
    "tags": []
   },
   "outputs": [
    {
     "name": "stdout",
     "output_type": "stream",
     "text": [
      "Cek Jumlah Missing Value pada setiap kolom :\n",
      " gender                         0\n",
      "race/ethnicity                 0\n",
      "parental level of education    0\n",
      "lunch                          0\n",
      "test preparation course        0\n",
      "math score                     0\n",
      "reading score                  0\n",
      "writing score                  0\n",
      "dtype: int64\n",
      "****************************************\n",
      "Jumlah Duplicated data :\n",
      " 0\n"
     ]
    }
   ],
   "source": [
    "print('Cek Jumlah Missing Value pada setiap kolom :\\n',df.isna().sum())\n",
    "print(20*'**') \n",
    "# Lihat Jumlah Duplicated Data \n",
    "print('Jumlah Duplicated data :\\n',df.duplicated().sum()) "
   ]
  },
  {
   "cell_type": "markdown",
   "id": "2266714e",
   "metadata": {
    "papermill": {
     "duration": 0.028794,
     "end_time": "2022-03-29T12:39:18.937672",
     "exception": false,
     "start_time": "2022-03-29T12:39:18.908878",
     "status": "completed"
    },
    "tags": []
   },
   "source": [
    "tidak ada data yang kosong dan duplikat, kita dapat ke langkah selanjutnya yaitu menghapus outlier"
   ]
  },
  {
   "cell_type": "markdown",
   "id": "4c4f8964",
   "metadata": {
    "papermill": {
     "duration": 0.026338,
     "end_time": "2022-03-29T12:39:18.992926",
     "exception": false,
     "start_time": "2022-03-29T12:39:18.966588",
     "status": "completed"
    },
    "tags": []
   },
   "source": [
    "# Cek Outlier "
   ]
  },
  {
   "cell_type": "code",
   "execution_count": 3,
   "id": "265e47ea",
   "metadata": {
    "execution": {
     "iopub.execute_input": "2022-03-29T12:39:19.057052Z",
     "iopub.status.busy": "2022-03-29T12:39:19.056014Z",
     "iopub.status.idle": "2022-03-29T12:39:19.209720Z",
     "shell.execute_reply": "2022-03-29T12:39:19.210522Z",
     "shell.execute_reply.started": "2022-03-29T12:33:44.164471Z"
    },
    "papermill": {
     "duration": 0.191646,
     "end_time": "2022-03-29T12:39:19.210809",
     "exception": false,
     "start_time": "2022-03-29T12:39:19.019163",
     "status": "completed"
    },
    "tags": []
   },
   "outputs": [
    {
     "data": {
      "image/png": "[encoded data removed]",
      "text/plain": [
       "<Figure size 432x288 with 1 Axes>"
      ]
     },
     "metadata": {
      "needs_background": "light"
     },
     "output_type": "display_data"
    },
    {
     "name": "stdout",
     "output_type": "stream",
     "text": [
      "Jumlah Baris Sebelum Outlier dibuang: 1000\n",
      "****************************************\n"
     ]
    }
   ],
   "source": [
    "kolom_numerik = ['math score','reading score','writing score'] \n",
    "plt.boxplot(df[kolom_numerik])\n",
    "plt.title('Sebelum Outlier Dibuang')\n",
    "plt.show()  \n",
    "\n",
    "# Data Sebelum dibuang outliernya \n",
    "print(f'Jumlah Baris Sebelum Outlier dibuang: {df.shape[0]}') \n",
    "print(20*'**')\n"
   ]
  },
  {
   "cell_type": "markdown",
   "id": "dfb83227",
   "metadata": {
    "papermill": {
     "duration": 0.026953,
     "end_time": "2022-03-29T12:39:19.267830",
     "exception": false,
     "start_time": "2022-03-29T12:39:19.240877",
     "status": "completed"
    },
    "tags": []
   },
   "source": [
    "# Buang Outlier"
   ]
  },
  {
   "cell_type": "code",
   "execution_count": 4,
   "id": "3d7b6dc2",
   "metadata": {
    "execution": {
     "iopub.execute_input": "2022-03-29T12:39:19.329883Z",
     "iopub.status.busy": "2022-03-29T12:39:19.329228Z",
     "iopub.status.idle": "2022-03-29T12:39:19.605634Z",
     "shell.execute_reply": "2022-03-29T12:39:19.606385Z",
     "shell.execute_reply.started": "2022-03-29T12:33:44.34393Z"
    },
    "papermill": {
     "duration": 0.311422,
     "end_time": "2022-03-29T12:39:19.606606",
     "exception": false,
     "start_time": "2022-03-29T12:39:19.295184",
     "status": "completed"
    },
    "tags": []
   },
   "outputs": [
    {
     "data": {
      "image/png": "[encoded data removed]",
      "text/plain": [
       "<Figure size 432x288 with 1 Axes>"
      ]
     },
     "metadata": {
      "needs_background": "light"
     },
     "output_type": "display_data"
    },
    {
     "name": "stdout",
     "output_type": "stream",
     "text": [
      "Jumlah Baris setelah outlier dibuang: 988\n"
     ]
    }
   ],
   "source": [
    "# Q1, Q3, dan IQR\n",
    "Q1 = df[kolom_numerik].quantile(0.25)\n",
    "Q3 = df[kolom_numerik].quantile(0.75)\n",
    "IQR = Q3 - Q1\n",
    "df = df[~((df[kolom_numerik] < (Q1 - 1.5 * IQR)) | (df[kolom_numerik] > (Q3 + 1.5 * IQR))).any(axis=1)]\n",
    "\n",
    "#Cek outlier setelah dibuang\n",
    "plt.boxplot(df[kolom_numerik])\n",
    "plt.title('Setelah Outlier Dibuang')\n",
    "plt.show() \n",
    "print(f'Jumlah Baris setelah outlier dibuang: {df.shape[0]}') "
   ]
  },
  {
   "cell_type": "markdown",
   "id": "0f957b23",
   "metadata": {
    "papermill": {
     "duration": 0.027633,
     "end_time": "2022-03-29T12:39:19.663454",
     "exception": false,
     "start_time": "2022-03-29T12:39:19.635821",
     "status": "completed"
    },
    "tags": []
   },
   "source": [
    "lalu saya akan mebuat kolom 'final score' yang berisi rata-rata nilai (math, reading, dan writing). \n",
    "Setelah itu saya akan menyimpan data yang sudah dibersihkan agar lebih mudah diproses setelahnya."
   ]
  },
  {
   "cell_type": "code",
   "execution_count": 5,
   "id": "cca435f8",
   "metadata": {
    "execution": {
     "iopub.execute_input": "2022-03-29T12:39:19.723543Z",
     "iopub.status.busy": "2022-03-29T12:39:19.722578Z",
     "iopub.status.idle": "2022-03-29T12:39:19.740485Z",
     "shell.execute_reply": "2022-03-29T12:39:19.741117Z",
     "shell.execute_reply.started": "2022-03-29T12:33:44.64155Z"
    },
    "papermill": {
     "duration": 0.049561,
     "end_time": "2022-03-29T12:39:19.741284",
     "exception": false,
     "start_time": "2022-03-29T12:39:19.691723",
     "status": "completed"
    },
    "tags": []
   },
   "outputs": [
    {
     "name": "stdout",
     "output_type": "stream",
     "text": [
      "Data Setelah ditambah kolom baru    gender race/ethnicity parental level of education         lunch  \\\n",
      "0  female        group B           bachelor's degree      standard   \n",
      "1  female        group C                some college      standard   \n",
      "2  female        group B             master's degree      standard   \n",
      "3    male        group A          associate's degree  free/reduced   \n",
      "4    male        group C                some college      standard   \n",
      "\n",
      "  test preparation course  math score  reading score  writing score  \\\n",
      "0                    none          72             72             74   \n",
      "1               completed          69             90             88   \n",
      "2                    none          90             95             93   \n",
      "3                    none          47             57             44   \n",
      "4                    none          76             78             75   \n",
      "\n",
      "   final score  \n",
      "0    72.666667  \n",
      "1    82.333333  \n",
      "2    92.666667  \n",
      "3    49.333333  \n",
      "4    76.333333  \n"
     ]
    }
   ],
   "source": [
    "# Membuat Kolom baru bernama 'final score' \n",
    "df['final score'] = df[['math score', 'reading score', 'writing score']].mean(axis=1)\n",
    "print('Data Setelah ditambah kolom baru',df.head())\n",
    " \n",
    "#Save data yang sudah bersih \n",
    "df.to_csv('peforma_cleaned.csv', index=False)"
   ]
  },
  {
   "cell_type": "markdown",
   "id": "0addd65a",
   "metadata": {
    "papermill": {
     "duration": 0.027936,
     "end_time": "2022-03-29T12:39:19.797603",
     "exception": false,
     "start_time": "2022-03-29T12:39:19.769667",
     "status": "completed"
    },
    "tags": []
   },
   "source": [
    "# Visualisasi Data"
   ]
  },
  {
   "cell_type": "code",
   "execution_count": 6,
   "id": "036ebda4",
   "metadata": {
    "execution": {
     "iopub.execute_input": "2022-03-29T12:39:19.860034Z",
     "iopub.status.busy": "2022-03-29T12:39:19.859301Z",
     "iopub.status.idle": "2022-03-29T12:39:20.807263Z",
     "shell.execute_reply": "2022-03-29T12:39:20.807724Z",
     "shell.execute_reply.started": "2022-03-29T12:33:44.668136Z"
    },
    "papermill": {
     "duration": 0.981868,
     "end_time": "2022-03-29T12:39:20.807901",
     "exception": false,
     "start_time": "2022-03-29T12:39:19.826033",
     "status": "completed"
    },
    "tags": []
   },
   "outputs": [
    {
     "name": "stdout",
     "output_type": "stream",
     "text": [
      "   gender race/ethnicity parental level of education         lunch  \\\n",
      "0  female        group B           bachelor's degree      standard   \n",
      "1  female        group C                some college      standard   \n",
      "2  female        group B             master's degree      standard   \n",
      "3    male        group A          associate's degree  free/reduced   \n",
      "4    male        group C                some college      standard   \n",
      "\n",
      "  test preparation course  math score  reading score  writing score  \\\n",
      "0                    none          72             72             74   \n",
      "1               completed          69             90             88   \n",
      "2                    none          90             95             93   \n",
      "3                    none          47             57             44   \n",
      "4                    none          76             78             75   \n",
      "\n",
      "   final score  \n",
      "0    72.666667  \n",
      "1    82.333333  \n",
      "2    92.666667  \n",
      "3    49.333333  \n",
      "4    76.333333  \n",
      "****************************************\n"
     ]
    }
   ],
   "source": [
    "# Import dan lihat sample data \n",
    "import pandas as pd \n",
    "import matplotlib.pyplot as plt\n",
    "import seaborn as sns\n",
    "import numpy as np\n",
    "\n",
    "df = pd.read_csv('./peforma_cleaned.csv') \n",
    "print(df.head()) \n",
    "print(20*'**')"
   ]
  },
  {
   "cell_type": "markdown",
   "id": "575df29c",
   "metadata": {
    "papermill": {
     "duration": 0.029064,
     "end_time": "2022-03-29T12:39:20.866393",
     "exception": false,
     "start_time": "2022-03-29T12:39:20.837329",
     "status": "completed"
    },
    "tags": []
   },
   "source": [
    "**Membuat Pie Chart per-kategori**"
   ]
  },
  {
   "cell_type": "code",
   "execution_count": 7,
   "id": "cd5511e1",
   "metadata": {
    "execution": {
     "iopub.execute_input": "2022-03-29T12:39:20.934350Z",
     "iopub.status.busy": "2022-03-29T12:39:20.933449Z",
     "iopub.status.idle": "2022-03-29T12:39:21.282552Z",
     "shell.execute_reply": "2022-03-29T12:39:21.283334Z",
     "shell.execute_reply.started": "2022-03-29T12:33:45.548085Z"
    },
    "papermill": {
     "duration": 0.387675,
     "end_time": "2022-03-29T12:39:21.283639",
     "exception": false,
     "start_time": "2022-03-29T12:39:20.895964",
     "status": "completed"
    },
    "tags": []
   },
   "outputs": [
    {
     "data": {
      "text/plain": [
       "Text(0.5, 1.0, 'lunch')"
      ]
     },
     "execution_count": 7,
     "metadata": {},
     "output_type": "execute_result"
    },
    {
     "data": {
      "image/png": "[encoded data removed]",
      "text/plain": [
       "<Figure size 432x288 with 4 Axes>"
      ]
     },
     "metadata": {},
     "output_type": "display_data"
    }
   ],
   "source": [
    "plt.figure(1)\n",
    "colors = sns.color_palette('pastel')\n",
    "#first row, first column\n",
    "ax1 = plt.subplot2grid((2,2),(0,0))\n",
    "plt.pie(df.groupby('gender').size(), labels =df['gender'].unique(), autopct='%.0f%%', colors=colors)\n",
    "plt.title('gender', color='blue')\n",
    "#first row sec column \n",
    "ax1 = plt.subplot2grid((2,2), (0, 1))\n",
    "plt.pie(df.groupby('parental level of education').size(), labels =df['parental level of education'].unique(), autopct='%.0f%%', colors=colors)\n",
    "plt.title('parental level of education', color='blue')\n",
    "#Second row first column\n",
    "ax1 = plt.subplot2grid((2,2), (1, 0))\n",
    "plt.pie(df.groupby('test preparation course').size(), labels =df['test preparation course'].unique(), autopct='%.0f%%', colors=colors)\n",
    "plt.title('test preparation course', color='blue')\n",
    "#second row second column\n",
    "ax1 = plt.subplot2grid((2,2), (1, 1))\n",
    "plt.pie(df.groupby('lunch').size(), labels =df['lunch'].unique(), autopct='%.0f%%', colors=colors)\n",
    "plt.title('lunch', color='blue')"
   ]
  },
  {
   "cell_type": "code",
   "execution_count": 8,
   "id": "4bd64bb1",
   "metadata": {
    "execution": {
     "iopub.execute_input": "2022-03-29T12:39:21.356249Z",
     "iopub.status.busy": "2022-03-29T12:39:21.355721Z",
     "iopub.status.idle": "2022-03-29T12:39:21.952863Z",
     "shell.execute_reply": "2022-03-29T12:39:21.953305Z",
     "shell.execute_reply.started": "2022-03-29T12:33:45.945291Z"
    },
    "papermill": {
     "duration": 0.630356,
     "end_time": "2022-03-29T12:39:21.953481",
     "exception": false,
     "start_time": "2022-03-29T12:39:21.323125",
     "status": "completed"
    },
    "tags": []
   },
   "outputs": [
    {
     "data": {
      "text/plain": [
       "(array([0, 1, 2, 3, 4, 5]),\n",
       " [Text(0, 0, \"bachelor's degree\"),\n",
       "  Text(1, 0, 'some college'),\n",
       "  Text(2, 0, \"master's degree\"),\n",
       "  Text(3, 0, \"associate's degree\"),\n",
       "  Text(4, 0, 'high school'),\n",
       "  Text(5, 0, 'some high school')])"
      ]
     },
     "execution_count": 8,
     "metadata": {},
     "output_type": "execute_result"
    },
    {
     "data": {
      "image/png": "[encoded data removed]",
      "text/plain": [
       "<Figure size 432x288 with 1 Axes>"
      ]
     },
     "metadata": {
      "needs_background": "light"
     },
     "output_type": "display_data"
    }
   ],
   "source": [
    "plt.figure(2)\n",
    "sns.barplot(data=df, x='parental level of education', hue='gender', y='final score')\n",
    "plt.xticks(rotation=-15, fontsize=8)"
   ]
  },
  {
   "cell_type": "code",
   "execution_count": 9,
   "id": "0419d3e0",
   "metadata": {
    "execution": {
     "iopub.execute_input": "2022-03-29T12:39:22.026236Z",
     "iopub.status.busy": "2022-03-29T12:39:22.024703Z",
     "iopub.status.idle": "2022-03-29T12:39:22.370275Z",
     "shell.execute_reply": "2022-03-29T12:39:22.370786Z",
     "shell.execute_reply.started": "2022-03-29T12:33:46.762317Z"
    },
    "papermill": {
     "duration": 0.385196,
     "end_time": "2022-03-29T12:39:22.370974",
     "exception": false,
     "start_time": "2022-03-29T12:39:21.985778",
     "status": "completed"
    },
    "tags": []
   },
   "outputs": [
    {
     "data": {
      "image/png": "[encoded data removed]",
      "text/plain": [
       "<Figure size 432x288 with 1 Axes>"
      ]
     },
     "metadata": {
      "needs_background": "light"
     },
     "output_type": "display_data"
    }
   ],
   "source": [
    "plt.figure(3)\n",
    "sns.barplot(data=df, x='test preparation course', hue='lunch', y='final score')\n",
    "plt.show()"
   ]
  },
  {
   "cell_type": "markdown",
   "id": "08b92088",
   "metadata": {
    "papermill": {
     "duration": 0.032743,
     "end_time": "2022-03-29T12:39:22.436610",
     "exception": false,
     "start_time": "2022-03-29T12:39:22.403867",
     "status": "completed"
    },
    "tags": []
   },
   "source": [
    "kesimpulan yang dapat ditarik adalah, tingkat pendidikan orang tua siswa dapat mempengaruhi nilainya. Begitu juga dengan test preparation, siswa yang sudah menyelesaikan test preparation cenderung memiliki nilai yang lebih tinggi."
   ]
  },
  {
   "cell_type": "code",
   "execution_count": 10,
   "id": "78aebe24",
   "metadata": {
    "execution": {
     "iopub.execute_input": "2022-03-29T12:39:22.556463Z",
     "iopub.status.busy": "2022-03-29T12:39:22.549109Z",
     "iopub.status.idle": "2022-03-29T12:39:23.013780Z",
     "shell.execute_reply": "2022-03-29T12:39:23.013301Z",
     "shell.execute_reply.started": "2022-03-29T12:33:47.132929Z"
    },
    "papermill": {
     "duration": 0.54387,
     "end_time": "2022-03-29T12:39:23.013915",
     "exception": false,
     "start_time": "2022-03-29T12:39:22.470045",
     "status": "completed"
    },
    "tags": []
   },
   "outputs": [
    {
     "data": {
      "text/plain": [
       "<Figure size 432x288 with 0 Axes>"
      ]
     },
     "metadata": {},
     "output_type": "display_data"
    },
    {
     "data": {
      "image/png": "[encoded data removed]",
      "text/plain": [
       "<Figure size 1080x432 with 3 Axes>"
      ]
     },
     "metadata": {
      "needs_background": "light"
     },
     "output_type": "display_data"
    }
   ],
   "source": [
    "#Histogram Nilai\n",
    "plt.figure(4)\n",
    "fig, ax = plt.subplots(nrows=1, ncols=3, figsize=(15, 6))\n",
    "fig.suptitle('Grafik Distribusi Nilai Siswa')\n",
    "sns.histplot(df['math score'], color='blue', ax=ax[0], alpha=0.5, bins=25) \n",
    "sns.histplot(df['reading score'], color='orange', ax=ax[1], alpha=0.5, bins=25) \n",
    "sns.histplot(df['writing score'], color='green', ax=ax[2], alpha=0.5, bins=25) \n",
    "plt.show()"
   ]
  },
  {
   "cell_type": "markdown",
   "id": "22e35033",
   "metadata": {
    "papermill": {
     "duration": 0.033324,
     "end_time": "2022-03-29T12:39:23.080752",
     "exception": false,
     "start_time": "2022-03-29T12:39:23.047428",
     "status": "completed"
    },
    "tags": []
   },
   "source": [
    "**Membuat Scatter Plot 3D**"
   ]
  },
  {
   "cell_type": "code",
   "execution_count": 11,
   "id": "ac6fd3f5",
   "metadata": {
    "execution": {
     "iopub.execute_input": "2022-03-29T12:39:23.153751Z",
     "iopub.status.busy": "2022-03-29T12:39:23.153125Z",
     "iopub.status.idle": "2022-03-29T12:39:25.326392Z",
     "shell.execute_reply": "2022-03-29T12:39:25.325904Z",
     "shell.execute_reply.started": "2022-03-29T12:33:47.722699Z"
    },
    "papermill": {
     "duration": 2.211402,
     "end_time": "2022-03-29T12:39:25.326535",
     "exception": false,
     "start_time": "2022-03-29T12:39:23.115133",
     "status": "completed"
    },
    "tags": []
   },
   "outputs": [
    {
     "data": {
      "text/html": [
       "        <script type=\"text/javascript\">\n",
       "        window.PlotlyConfig = {MathJaxConfig: 'local'};\n",
       "        if (window.MathJax) {MathJax.Hub.Config({SVG: {font: \"STIX-Web\"}});}\n",
       "        if (typeof require !== 'undefined') {\n",
       "        require.undef(\"plotly\");\n",
       "        requirejs.config({\n",
       "            paths: {\n",
       "                'plotly': ['https://cdn.plot.ly/plotly-2.9.0.min']\n",
       "            }\n",
       "        });\n",
       "        require(['plotly'], function(Plotly) {\n",
       "            window._Plotly = Plotly;\n",
       "        });\n",
       "        }\n",
       "        </script>\n",
       "        "
      ]
     },
     "metadata": {},
     "output_type": "display_data"
    },
    {
     "data": {
      "text/html": [
       "<div>                            <div id=\"3cba94a2-2883-4cfc-9129-99ec8c03930f\" class=\"plotly-graph-div\" style=\"height:525px; width:100%;\"></div>            <script type=\"text/javascript\">                require([\"plotly\"], function(Plotly) {                    window.PLOTLYENV=window.PLOTLYENV || {};                                    if (document.getElementById(\"3cba94a2-2883-4cfc-9129-99ec8c03930f\")) {                    Plotly.newPlot(                        \"3cba94a2-2883-4cfc-9129-99ec8c03930f\",                        [{\"hovertemplate\":\"gender=female<br>math score=%{x}<br>reading score=%{y}<br>writing score=%{z}<extra></extra>\",\"legendgroup\":\"female\",\"marker\":{\"color\":\"#636efa\",\"opacity\":0.7,\"symbol\":\"circle\"},\"mode\":\"markers\",\"name\":\"female\",\"scene\":\"scene\",\"showlegend\":true,\"x\":[72,69,90,71,88,38,65,50,69,54,65,69,67,62,69,63,56,74,50,75,58,53,50,55,66,57,71,33,82,69,59,60,39,58,41,61,62,47,73,76,71,58,73,65,79,63,58,65,85,58,87,52,70,77,51,99,75,78,51,55,79,88,87,51,75,59,76,59,42,68,59,70,66,61,75,81,96,58,68,67,79,63,43,81,46,71,52,97,46,50,65,77,66,62,69,45,78,67,65,57,74,58,42,83,34,56,55,52,45,72,88,67,64,80,56,58,65,71,60,62,64,70,65,64,44,99,63,69,88,71,47,65,85,59,65,73,70,37,67,65,67,74,53,49,73,68,59,77,56,67,75,71,43,41,82,41,83,61,35,61,69,72,77,52,63,46,59,61,42,80,58,52,27,44,73,45,82,59,80,85,71,80,38,38,67,64,57,62,77,65,50,85,59,49,88,54,63,82,52,70,51,82,57,47,59,62,61,47,67,78,59,73,67,64,100,65,53,79,100,71,77,84,77,83,63,68,59,90,71,55,52,49,60,65,64,83,81,54,54,59,66,74,94,95,40,82,86,54,77,76,74,66,66,67,91,36,29,62,68,47,79,66,51,81,82,64,92,62,40,32,55,53,74,63,63,92,61,53,50,74,81,48,53,81,77,63,73,69,65,55,44,54,48,74,92,56,69,65,54,29,76,85,40,61,58,58,65,82,60,37,35,61,44,66,75,67,80,76,74,72,74,65,59,64,50,69,68,85,65,73,62,43,55,65,50,63,77,66,69,65,69,50,73,70,67,29,94,49,73,66,77,49,79,75,59,57,79,57,63,59,42,80,98,60,76,96,76,62,74,65,73,68,87,53,53,37,81,59,50,77,84,52,53,48,62,74,58,68,52,62,49,66,35,72,46,77,76,52,32,72,52,48,60,42,57,70,52,87,82,73,64,41,54,72,45,60,77,85,78,71,48,56,65,69,61,74,77,60,75,66,39,40,59,61,87,97,65,53,81,71,70,43,59,64,71,64,51,62,93,69,86,85,50,59,32,63,65,73,34,93,67,79,67,69,52,47,46,68,44,57,35,54,65,48,57,78,58,54,49,57,75,74,62,92,45,56,48,100,65,62,68,75,89,53,49,54,64,91,78,74,40,44,67,65,55,62,88,59,68,77],\"y\":[72,90,95,83,95,60,81,53,75,58,75,73,69,70,74,65,72,81,64,90,73,58,56,65,71,74,84,41,85,80,58,72,64,63,51,74,68,49,80,83,71,70,86,72,86,72,67,67,91,67,100,76,64,89,58,100,85,82,63,69,92,93,95,49,81,66,72,62,55,75,70,89,74,86,88,92,100,76,83,75,86,67,51,91,54,77,70,100,64,50,69,88,65,64,84,53,79,84,81,69,81,61,62,86,42,68,65,66,56,72,95,86,60,83,52,70,64,83,70,73,73,75,81,79,50,93,75,72,92,76,53,70,92,63,86,79,78,46,89,73,84,75,71,57,76,67,64,82,65,79,86,81,53,46,90,55,93,68,55,73,76,80,94,65,78,58,71,72,66,90,62,58,34,64,84,73,97,70,90,95,83,86,49,43,76,73,78,64,68,74,67,89,54,65,99,59,73,80,57,71,72,93,58,58,85,67,72,59,81,81,73,83,74,85,92,77,61,89,100,70,90,87,88,85,69,86,67,90,76,64,59,52,75,85,64,83,88,64,48,78,69,79,87,89,59,82,92,61,97,87,89,74,78,78,86,53,41,74,67,54,88,83,66,77,95,63,100,67,48,39,72,70,75,74,80,100,71,62,66,81,91,56,61,97,79,73,75,77,76,73,63,64,66,76,100,79,77,82,60,29,78,84,58,64,63,59,77,93,68,45,61,58,51,74,88,80,92,74,88,81,79,81,70,62,53,79,80,86,70,79,67,60,71,69,60,73,85,76,78,84,77,64,78,82,72,40,99,53,76,74,77,63,89,82,72,78,81,67,64,63,61,85,100,70,94,96,76,72,90,75,92,77,89,58,66,57,84,73,60,90,95,59,72,58,62,72,75,71,67,78,58,72,44,79,56,90,85,59,51,79,65,62,66,52,68,84,55,94,85,76,74,45,64,80,59,72,91,90,90,87,58,68,69,86,60,86,82,64,82,77,52,65,72,68,85,97,79,62,86,71,72,62,72,76,70,73,51,76,100,65,85,92,67,62,34,78,78,78,48,100,84,84,75,84,61,62,61,70,61,77,53,65,61,56,58,91,68,61,58,75,77,74,69,100,63,58,54,100,76,70,76,84,100,50,65,63,82,95,87,75,59,45,86,82,76,72,99,71,78,86],\"z\":[74,88,93,78,92,50,73,58,78,61,70,73,75,75,74,61,65,83,59,88,68,65,54,62,76,76,87,43,86,71,59,74,57,73,48,72,68,50,82,88,74,67,82,74,92,70,62,62,89,72,100,70,72,98,54,100,82,79,61,65,89,93,86,51,84,67,71,64,54,81,66,88,78,87,85,91,100,78,78,70,81,70,54,87,58,77,62,100,66,47,70,87,69,66,85,55,76,86,77,68,76,66,60,88,39,74,62,73,54,71,94,83,74,83,55,68,62,83,70,70,68,78,81,77,51,90,81,77,95,70,58,71,93,75,80,84,78,46,82,75,81,83,67,52,80,69,75,91,63,84,79,80,53,43,94,51,95,66,60,63,74,75,95,69,80,57,70,70,69,89,59,58,32,58,85,70,96,73,82,100,77,83,45,43,75,70,67,64,77,77,63,95,67,55,100,62,68,77,56,74,79,93,64,67,80,62,70,50,79,80,69,76,77,85,97,74,62,89,100,76,91,91,85,90,74,84,61,91,83,70,56,54,74,76,70,90,90,68,52,76,68,82,92,92,54,80,87,62,94,85,84,73,78,79,84,43,47,70,73,53,94,83,62,79,89,66,97,64,50,33,79,70,79,74,80,100,78,56,64,71,89,58,68,96,80,78,80,77,76,73,62,65,65,73,99,72,73,81,63,30,80,82,54,62,65,66,74,93,72,38,54,62,55,81,85,81,88,73,90,79,80,81,65,68,55,81,76,98,74,79,67,58,69,67,60,71,87,68,76,84,78,66,76,76,74,44,100,53,78,81,73,56,86,90,70,79,82,72,67,64,58,85,99,74,87,99,74,70,88,77,84,80,94,57,73,56,82,72,59,85,92,65,64,54,63,72,77,75,72,79,55,70,43,82,57,84,82,62,44,77,61,60,70,51,73,81,57,95,87,78,75,40,67,83,64,68,88,92,93,82,52,70,76,81,57,89,89,74,79,73,46,64,68,63,93,96,81,53,87,80,76,61,80,74,70,71,54,80,95,74,91,85,73,69,38,79,82,74,41,100,84,91,72,82,66,66,55,66,52,80,46,65,71,51,57,96,61,58,60,73,83,72,69,100,59,64,53,100,75,72,67,80,100,60,61,67,77,94,91,82,51,45,83,78,76,74,95,65,77,86],\"type\":\"scatter3d\"},{\"hovertemplate\":\"gender=male<br>math score=%{x}<br>reading score=%{y}<br>writing score=%{z}<extra></extra>\",\"legendgroup\":\"male\",\"marker\":{\"color\":\"#EF553B\",\"opacity\":0.7,\"symbol\":\"circle\"},\"mode\":\"markers\",\"name\":\"male\",\"scene\":\"scene\",\"showlegend\":true,\"x\":[47,76,40,64,58,40,78,88,46,66,44,74,73,69,70,40,97,81,57,55,59,65,82,53,77,53,88,52,58,79,39,62,67,45,61,63,61,49,44,80,49,50,72,42,27,71,43,78,65,79,68,60,98,66,62,54,84,91,63,83,72,65,82,89,53,87,74,58,51,70,71,57,88,88,73,100,62,77,54,62,60,66,82,49,52,53,72,94,62,45,65,80,62,48,76,77,61,59,55,69,59,74,82,81,80,60,87,84,66,61,87,86,57,68,76,46,92,83,80,63,54,84,73,59,75,85,89,68,47,80,54,78,79,76,59,69,58,88,83,73,53,45,81,97,88,77,76,86,63,78,67,46,71,40,90,81,56,80,69,99,51,66,67,71,83,63,61,82,71,47,62,90,76,49,58,67,79,62,75,87,66,63,59,85,59,49,69,61,84,74,46,66,87,79,73,73,76,57,48,74,60,53,65,87,84,71,63,84,71,74,68,57,41,86,69,65,68,64,61,73,50,75,75,70,89,79,69,86,47,81,65,37,53,72,53,54,75,72,91,76,80,76,73,68,59,70,61,64,79,68,76,63,68,55,79,76,64,62,71,69,54,53,68,56,62,73,51,85,97,75,79,78,72,79,79,87,77,53,61,73,96,48,48,63,68,71,91,40,61,58,71,68,53,60,84,75,69,94,88,95,65,62,58,100,100,69,61,49,67,79,84,71,86,41,70,51,77,69,90,74,73,80,73,81,52,81,63,60,62,62,85,77,53,93,66,87,62,46,66,89,93,81,73,91,55,50,47,81,68,53,55,55,67,92,81,61,80,55,72,69,69,87,71,68,79,58,55,70,69,78,60,76,58,52,75,66,94,91,68,66,89,70,69,67,76,75,90,59,51,45,87,94,61,49,62,68,64,58,73,58,64,74,90,91,64,80,71,82,62,75,52,87,39,97,82,59,61,78,49,59,82,90,80,81,57,63,55,54,44,88,36,67,85,88,57,70,50,100,91,69,72,74,74,64,46,67,62,61,70,98,70,67,85,77,72,81,61,82,49,94,58,72,84,75,72,66,63,78,60,62,55,81,79,57,81,86,63,62],\"y\":[57,78,43,64,54,52,72,89,42,69,54,71,74,54,70,42,87,81,56,61,65,54,84,55,69,44,78,55,59,74,39,61,64,37,58,55,57,49,41,78,45,47,64,39,34,79,45,81,66,67,74,44,86,63,55,53,77,89,57,80,68,77,82,84,37,74,79,55,54,55,61,43,73,84,68,100,67,67,49,67,60,62,78,53,53,51,73,88,68,52,67,76,66,52,83,62,55,69,56,77,41,71,62,80,79,51,91,83,77,56,85,80,50,72,64,43,87,82,75,66,52,80,68,51,74,76,76,60,49,80,52,77,79,73,42,63,49,85,78,56,52,48,82,82,75,76,70,73,60,77,62,41,74,46,87,78,54,76,67,87,52,60,61,66,72,71,61,75,60,37,56,78,70,51,61,72,73,61,74,74,57,61,62,84,60,58,58,66,77,74,43,64,100,81,70,67,67,54,45,63,59,43,65,84,83,66,67,73,74,73,59,56,39,83,71,59,63,66,56,66,48,68,66,56,88,82,66,81,46,73,58,56,54,65,58,54,58,67,74,62,68,71,71,68,52,74,47,53,82,64,71,61,70,59,78,71,50,49,49,58,59,52,60,61,61,69,60,66,92,69,82,83,67,72,76,90,62,45,67,66,90,51,43,48,68,75,96,55,51,57,62,68,54,57,89,72,60,90,78,81,73,63,51,96,97,70,48,57,64,60,84,74,76,52,65,56,67,66,87,77,66,63,74,72,57,75,61,68,55,66,75,78,58,90,66,84,72,34,59,87,84,81,78,73,59,48,43,74,51,39,46,47,57,79,71,60,73,55,79,75,64,84,69,72,77,55,58,68,77,81,63,62,60,48,73,65,85,81,65,74,84,70,60,73,80,81,75,54,31,47,84,86,70,52,67,54,60,50,64,57,58,77,85,85,54,75,67,67,64,68,49,73,42,93,82,53,42,74,51,58,84,90,64,82,61,64,46,72,51,74,29,54,84,77,48,64,42,100,96,70,66,70,64,56,43,74,57,71,75,87,63,57,81,68,66,66,62,82,50,73,52,57,87,81,57,68,63,72,62,65,41,78,85,51,75,81,63,55],\"z\":[44,75,39,67,52,43,70,86,46,63,53,80,72,55,65,38,82,79,57,54,66,57,82,48,68,42,75,49,58,72,34,55,61,37,56,63,56,41,38,81,45,54,63,34,36,71,50,82,62,67,74,47,90,64,49,47,74,92,56,73,67,74,74,82,40,70,75,48,41,56,69,47,78,75,66,93,69,68,47,61,60,64,74,52,49,51,74,78,75,49,65,65,68,45,79,62,52,65,51,69,42,78,62,76,79,56,81,75,70,56,73,75,54,64,66,42,78,84,77,67,51,80,66,43,69,71,74,53,49,72,52,77,78,68,41,61,42,76,73,57,42,46,82,88,76,77,68,70,57,80,60,43,68,50,75,81,52,64,69,81,44,57,68,65,78,69,62,77,61,35,53,81,69,43,52,67,67,57,66,76,52,61,61,78,58,60,53,61,71,72,41,62,95,71,75,59,67,56,41,57,54,43,63,85,78,60,67,69,68,67,62,54,34,86,65,53,54,59,55,66,53,64,73,51,82,73,60,80,42,72,49,47,48,68,55,45,62,65,76,66,72,67,68,61,46,71,56,57,82,66,72,54,66,54,77,73,43,52,52,57,50,49,59,60,58,68,58,71,86,68,80,80,64,69,65,88,64,40,66,62,92,46,45,47,67,70,92,53,52,54,50,64,48,51,90,62,63,91,83,84,68,56,52,86,99,63,46,46,70,65,80,64,74,51,60,53,64,61,85,73,63,63,61,77,50,78,60,60,54,68,68,73,44,83,59,87,65,36,52,79,90,84,72,80,59,42,41,71,57,37,43,44,59,84,73,55,72,47,74,71,68,86,68,65,75,53,52,72,77,86,59,60,57,49,74,60,82,79,61,69,77,70,54,68,73,74,69,51,36,49,76,87,76,51,58,53,58,45,57,53,51,76,84,85,50,69,67,61,55,65,46,72,38,91,88,52,41,72,51,47,78,82,66,84,54,66,44,59,48,75,27,63,89,77,51,70,48,100,91,67,66,69,60,52,44,70,62,73,74,90,58,53,85,69,72,64,61,80,52,71,54,62,81,71,58,64,60,69,60,58,48,78,86,54,76,75,62,55],\"type\":\"scatter3d\"}],                        {\"template\":{\"data\":{\"bar\":[{\"error_x\":{\"color\":\"#2a3f5f\"},\"error_y\":{\"color\":\"#2a3f5f\"},\"marker\":{\"line\":{\"color\":\"#E5ECF6\",\"width\":0.5},\"pattern\":{\"fillmode\":\"overlay\",\"size\":10,\"solidity\":0.2}},\"type\":\"bar\"}],\"barpolar\":[{\"marker\":{\"line\":{\"color\":\"#E5ECF6\",\"width\":0.5},\"pattern\":{\"fillmode\":\"overlay\",\"size\":10,\"solidity\":0.2}},\"type\":\"barpolar\"}],\"carpet\":[{\"aaxis\":{\"endlinecolor\":\"#2a3f5f\",\"gridcolor\":\"white\",\"linecolor\":\"white\",\"minorgridcolor\":\"white\",\"startlinecolor\":\"#2a3f5f\"},\"baxis\":{\"endlinecolor\":\"#2a3f5f\",\"gridcolor\":\"white\",\"linecolor\":\"white\",\"minorgridcolor\":\"white\",\"startlinecolor\":\"#2a3f5f\"},\"type\":\"carpet\"}],\"choropleth\":[{\"colorbar\":{\"outlinewidth\":0,\"ticks\":\"\"},\"type\":\"choropleth\"}],\"contour\":[{\"colorbar\":{\"outlinewidth\":0,\"ticks\":\"\"},\"colorscale\":[[0.0,\"#0d0887\"],[0.1111111111111111,\"#46039f\"],[0.2222222222222222,\"#7201a8\"],[0.3333333333333333,\"#9c179e\"],[0.4444444444444444,\"#bd3786\"],[0.5555555555555556,\"#d8576b\"],[0.6666666666666666,\"#ed7953\"],[0.7777777777777778,\"#fb9f3a\"],[0.8888888888888888,\"#fdca26\"],[1.0,\"#f0f921\"]],\"type\":\"contour\"}],\"contourcarpet\":[{\"colorbar\":{\"outlinewidth\":0,\"ticks\":\"\"},\"type\":\"contourcarpet\"}],\"heatmap\":[{\"colorbar\":{\"outlinewidth\":0,\"ticks\":\"\"},\"colorscale\":[[0.0,\"#0d0887\"],[0.1111111111111111,\"#46039f\"],[0.2222222222222222,\"#7201a8\"],[0.3333333333333333,\"#9c179e\"],[0.4444444444444444,\"#bd3786\"],[0.5555555555555556,\"#d8576b\"],[0.6666666666666666,\"#ed7953\"],[0.7777777777777778,\"#fb9f3a\"],[0.8888888888888888,\"#fdca26\"],[1.0,\"#f0f921\"]],\"type\":\"heatmap\"}],\"heatmapgl\":[{\"colorbar\":{\"outlinewidth\":0,\"ticks\":\"\"},\"colorscale\":[[0.0,\"#0d0887\"],[0.1111111111111111,\"#46039f\"],[0.2222222222222222,\"#7201a8\"],[0.3333333333333333,\"#9c179e\"],[0.4444444444444444,\"#bd3786\"],[0.5555555555555556,\"#d8576b\"],[0.6666666666666666,\"#ed7953\"],[0.7777777777777778,\"#fb9f3a\"],[0.8888888888888888,\"#fdca26\"],[1.0,\"#f0f921\"]],\"type\":\"heatmapgl\"}],\"histogram\":[{\"marker\":{\"pattern\":{\"fillmode\":\"overlay\",\"size\":10,\"solidity\":0.2}},\"type\":\"histogram\"}],\"histogram2d\":[{\"colorbar\":{\"outlinewidth\":0,\"ticks\":\"\"},\"colorscale\":[[0.0,\"#0d0887\"],[0.1111111111111111,\"#46039f\"],[0.2222222222222222,\"#7201a8\"],[0.3333333333333333,\"#9c179e\"],[0.4444444444444444,\"#bd3786\"],[0.5555555555555556,\"#d8576b\"],[0.6666666666666666,\"#ed7953\"],[0.7777777777777778,\"#fb9f3a\"],[0.8888888888888888,\"#fdca26\"],[1.0,\"#f0f921\"]],\"type\":\"histogram2d\"}],\"histogram2dcontour\":[{\"colorbar\":{\"outlinewidth\":0,\"ticks\":\"\"},\"colorscale\":[[0.0,\"#0d0887\"],[0.1111111111111111,\"#46039f\"],[0.2222222222222222,\"#7201a8\"],[0.3333333333333333,\"#9c179e\"],[0.4444444444444444,\"#bd3786\"],[0.5555555555555556,\"#d8576b\"],[0.6666666666666666,\"#ed7953\"],[0.7777777777777778,\"#fb9f3a\"],[0.8888888888888888,\"#fdca26\"],[1.0,\"#f0f921\"]],\"type\":\"histogram2dcontour\"}],\"mesh3d\":[{\"colorbar\":{\"outlinewidth\":0,\"ticks\":\"\"},\"type\":\"mesh3d\"}],\"parcoords\":[{\"line\":{\"colorbar\":{\"outlinewidth\":0,\"ticks\":\"\"}},\"type\":\"parcoords\"}],\"pie\":[{\"automargin\":true,\"type\":\"pie\"}],\"scatter\":[{\"marker\":{\"colorbar\":{\"outlinewidth\":0,\"ticks\":\"\"}},\"type\":\"scatter\"}],\"scatter3d\":[{\"line\":{\"colorbar\":{\"outlinewidth\":0,\"ticks\":\"\"}},\"marker\":{\"colorbar\":{\"outlinewidth\":0,\"ticks\":\"\"}},\"type\":\"scatter3d\"}],\"scattercarpet\":[{\"marker\":{\"colorbar\":{\"outlinewidth\":0,\"ticks\":\"\"}},\"type\":\"scattercarpet\"}],\"scattergeo\":[{\"marker\":{\"colorbar\":{\"outlinewidth\":0,\"ticks\":\"\"}},\"type\":\"scattergeo\"}],\"scattergl\":[{\"marker\":{\"colorbar\":{\"outlinewidth\":0,\"ticks\":\"\"}},\"type\":\"scattergl\"}],\"scattermapbox\":[{\"marker\":{\"colorbar\":{\"outlinewidth\":0,\"ticks\":\"\"}},\"type\":\"scattermapbox\"}],\"scatterpolar\":[{\"marker\":{\"colorbar\":{\"outlinewidth\":0,\"ticks\":\"\"}},\"type\":\"scatterpolar\"}],\"scatterpolargl\":[{\"marker\":{\"colorbar\":{\"outlinewidth\":0,\"ticks\":\"\"}},\"type\":\"scatterpolargl\"}],\"scatterternary\":[{\"marker\":{\"colorbar\":{\"outlinewidth\":0,\"ticks\":\"\"}},\"type\":\"scatterternary\"}],\"surface\":[{\"colorbar\":{\"outlinewidth\":0,\"ticks\":\"\"},\"colorscale\":[[0.0,\"#0d0887\"],[0.1111111111111111,\"#46039f\"],[0.2222222222222222,\"#7201a8\"],[0.3333333333333333,\"#9c179e\"],[0.4444444444444444,\"#bd3786\"],[0.5555555555555556,\"#d8576b\"],[0.6666666666666666,\"#ed7953\"],[0.7777777777777778,\"#fb9f3a\"],[0.8888888888888888,\"#fdca26\"],[1.0,\"#f0f921\"]],\"type\":\"surface\"}],\"table\":[{\"cells\":{\"fill\":{\"color\":\"#EBF0F8\"},\"line\":{\"color\":\"white\"}},\"header\":{\"fill\":{\"color\":\"#C8D4E3\"},\"line\":{\"color\":\"white\"}},\"type\":\"table\"}]},\"layout\":{\"annotationdefaults\":{\"arrowcolor\":\"#2a3f5f\",\"arrowhead\":0,\"arrowwidth\":1},\"autotypenumbers\":\"strict\",\"coloraxis\":{\"colorbar\":{\"outlinewidth\":0,\"ticks\":\"\"}},\"colorscale\":{\"diverging\":[[0,\"#8e0152\"],[0.1,\"#c51b7d\"],[0.2,\"#de77ae\"],[0.3,\"#f1b6da\"],[0.4,\"#fde0ef\"],[0.5,\"#f7f7f7\"],[0.6,\"#e6f5d0\"],[0.7,\"#b8e186\"],[0.8,\"#7fbc41\"],[0.9,\"#4d9221\"],[1,\"#276419\"]],\"sequential\":[[0.0,\"#0d0887\"],[0.1111111111111111,\"#46039f\"],[0.2222222222222222,\"#7201a8\"],[0.3333333333333333,\"#9c179e\"],[0.4444444444444444,\"#bd3786\"],[0.5555555555555556,\"#d8576b\"],[0.6666666666666666,\"#ed7953\"],[0.7777777777777778,\"#fb9f3a\"],[0.8888888888888888,\"#fdca26\"],[1.0,\"#f0f921\"]],\"sequentialminus\":[[0.0,\"#0d0887\"],[0.1111111111111111,\"#46039f\"],[0.2222222222222222,\"#7201a8\"],[0.3333333333333333,\"#9c179e\"],[0.4444444444444444,\"#bd3786\"],[0.5555555555555556,\"#d8576b\"],[0.6666666666666666,\"#ed7953\"],[0.7777777777777778,\"#fb9f3a\"],[0.8888888888888888,\"#fdca26\"],[1.0,\"#f0f921\"]]},\"colorway\":[\"#636efa\",\"#EF553B\",\"#00cc96\",\"#ab63fa\",\"#FFA15A\",\"#19d3f3\",\"#FF6692\",\"#B6E880\",\"#FF97FF\",\"#FECB52\"],\"font\":{\"color\":\"#2a3f5f\"},\"geo\":{\"bgcolor\":\"white\",\"lakecolor\":\"white\",\"landcolor\":\"#E5ECF6\",\"showlakes\":true,\"showland\":true,\"subunitcolor\":\"white\"},\"hoverlabel\":{\"align\":\"left\"},\"hovermode\":\"closest\",\"mapbox\":{\"style\":\"light\"},\"paper_bgcolor\":\"white\",\"plot_bgcolor\":\"#E5ECF6\",\"polar\":{\"angularaxis\":{\"gridcolor\":\"white\",\"linecolor\":\"white\",\"ticks\":\"\"},\"bgcolor\":\"#E5ECF6\",\"radialaxis\":{\"gridcolor\":\"white\",\"linecolor\":\"white\",\"ticks\":\"\"}},\"scene\":{\"xaxis\":{\"backgroundcolor\":\"#E5ECF6\",\"gridcolor\":\"white\",\"gridwidth\":2,\"linecolor\":\"white\",\"showbackground\":true,\"ticks\":\"\",\"zerolinecolor\":\"white\"},\"yaxis\":{\"backgroundcolor\":\"#E5ECF6\",\"gridcolor\":\"white\",\"gridwidth\":2,\"linecolor\":\"white\",\"showbackground\":true,\"ticks\":\"\",\"zerolinecolor\":\"white\"},\"zaxis\":{\"backgroundcolor\":\"#E5ECF6\",\"gridcolor\":\"white\",\"gridwidth\":2,\"linecolor\":\"white\",\"showbackground\":true,\"ticks\":\"\",\"zerolinecolor\":\"white\"}},\"shapedefaults\":{\"line\":{\"color\":\"#2a3f5f\"}},\"ternary\":{\"aaxis\":{\"gridcolor\":\"white\",\"linecolor\":\"white\",\"ticks\":\"\"},\"baxis\":{\"gridcolor\":\"white\",\"linecolor\":\"white\",\"ticks\":\"\"},\"bgcolor\":\"#E5ECF6\",\"caxis\":{\"gridcolor\":\"white\",\"linecolor\":\"white\",\"ticks\":\"\"}},\"title\":{\"x\":0.05},\"xaxis\":{\"automargin\":true,\"gridcolor\":\"white\",\"linecolor\":\"white\",\"ticks\":\"\",\"title\":{\"standoff\":15},\"zerolinecolor\":\"white\",\"zerolinewidth\":2},\"yaxis\":{\"automargin\":true,\"gridcolor\":\"white\",\"linecolor\":\"white\",\"ticks\":\"\",\"title\":{\"standoff\":15},\"zerolinecolor\":\"white\",\"zerolinewidth\":2}}},\"scene\":{\"domain\":{\"x\":[0.0,1.0],\"y\":[0.0,1.0]},\"xaxis\":{\"title\":{\"text\":\"math score\"}},\"yaxis\":{\"title\":{\"text\":\"reading score\"}},\"zaxis\":{\"title\":{\"text\":\"writing score\"}}},\"legend\":{\"title\":{\"text\":\"gender\"},\"tracegroupgap\":0},\"margin\":{\"t\":60}},                        {\"responsive\": true}                    ).then(function(){\n",
       "                            \n",
       "var gd = document.getElementById('3cba94a2-2883-4cfc-9129-99ec8c03930f');\n",
       "var x = new MutationObserver(function (mutations, observer) {{\n",
       "        var display = window.getComputedStyle(gd).display;\n",
       "        if (!display || display === 'none') {{\n",
       "            console.log([gd, 'removed!']);\n",
       "            Plotly.purge(gd);\n",
       "            observer.disconnect();\n",
       "        }}\n",
       "}});\n",
       "\n",
       "// Listen for the removal of the full notebook cells\n",
       "var notebookContainer = gd.closest('#notebook-container');\n",
       "if (notebookContainer) {{\n",
       "    x.observe(notebookContainer, {childList: true});\n",
       "}}\n",
       "\n",
       "// Listen for the clearing of the current output cell\n",
       "var outputEl = gd.closest('.output');\n",
       "if (outputEl) {{\n",
       "    x.observe(outputEl, {childList: true});\n",
       "}}\n",
       "\n",
       "                        })                };                });            </script>        </div>"
      ]
     },
     "metadata": {},
     "output_type": "display_data"
    }
   ],
   "source": [
    "# Membuat Scatter Plot untuk masing masing score (math, reading, and writing)\n",
    "import plotly.express as px\n",
    "fig3 = px.scatter_3d(df, x='math score', y='reading score', z='writing score', color='gender', opacity=0.7)\n",
    "fig3.show()\n"
   ]
  },
  {
   "cell_type": "markdown",
   "id": "8675888b",
   "metadata": {
    "papermill": {
     "duration": 0.033852,
     "end_time": "2022-03-29T12:39:25.394823",
     "exception": false,
     "start_time": "2022-03-29T12:39:25.360971",
     "status": "completed"
    },
    "tags": []
   },
   "source": [
    "Bedasarkan scatter plot di atas, hubungan antar nilai memiliki korelasi yang cukup baik"
   ]
  },
  {
   "cell_type": "markdown",
   "id": "85b07db6",
   "metadata": {
    "papermill": {
     "duration": 0.034184,
     "end_time": "2022-03-29T12:39:25.463391",
     "exception": false,
     "start_time": "2022-03-29T12:39:25.429207",
     "status": "completed"
    },
    "tags": []
   },
   "source": [
    "# Clustering \n",
    "Tahap selanjutnya adalah menerapkan algoritma clustering, pertama-tama saya akan akan menstandarisasi kolom numerik dan melakukan label encoding untuk kolom kategorik."
   ]
  },
  {
   "cell_type": "code",
   "execution_count": 12,
   "id": "fd18e4f8",
   "metadata": {
    "execution": {
     "iopub.execute_input": "2022-03-29T12:39:25.535459Z",
     "iopub.status.busy": "2022-03-29T12:39:25.534849Z",
     "iopub.status.idle": "2022-03-29T12:39:25.917707Z",
     "shell.execute_reply": "2022-03-29T12:39:25.918221Z",
     "shell.execute_reply.started": "2022-03-29T12:33:50.097896Z"
    },
    "papermill": {
     "duration": 0.420772,
     "end_time": "2022-03-29T12:39:25.918385",
     "exception": false,
     "start_time": "2022-03-29T12:39:25.497613",
     "status": "completed"
    },
    "tags": []
   },
   "outputs": [
    {
     "name": "stdout",
     "output_type": "stream",
     "text": [
      "['female' 'male']\n",
      "[0 1]\n",
      "----------------------------------------\n",
      "['group A' 'group B' 'group C' 'group D' 'group E']\n",
      "[0 1 2 3 4]\n",
      "----------------------------------------\n",
      "[\"associate's degree\" \"bachelor's degree\" 'high school' \"master's degree\"\n",
      " 'some college' 'some high school']\n",
      "[0 1 2 3 4 5]\n",
      "----------------------------------------\n",
      "['free/reduced' 'standard']\n",
      "[0 1]\n",
      "----------------------------------------\n",
      "['completed' 'none']\n",
      "[0 1]\n",
      "----------------------------------------\n"
     ]
    }
   ],
   "source": [
    "from sklearn.cluster import KMeans\n",
    "\n",
    "#Standarisasi \n",
    "from sklearn.preprocessing import StandardScaler  \n",
    "kolom_numerik = ['reading score','writing score','math score']\n",
    "for kolom in kolom_numerik: \n",
    "    df[kolom]= StandardScaler().fit_transform(df[[kolom]])  \n",
    "\n",
    "# Label Encoding \n",
    "from sklearn.preprocessing import LabelEncoder\n",
    "kolom_kategorikal = ['gender','race/ethnicity','parental level of education','lunch','test preparation course']\n",
    "for kolom in kolom_kategorikal: \n",
    "    LE = LabelEncoder() \n",
    "    df[kolom] = LE.fit_transform(df[kolom])\n",
    "    print(LE.classes_)\n",
    "    print(np.sort(df[kolom].unique()))\n",
    "    print(20*'--') "
   ]
  },
  {
   "cell_type": "markdown",
   "id": "d4bc9e10",
   "metadata": {
    "papermill": {
     "duration": 0.034153,
     "end_time": "2022-03-29T12:39:25.987467",
     "exception": false,
     "start_time": "2022-03-29T12:39:25.953314",
     "status": "completed"
    },
    "tags": []
   },
   "source": [
    "Dari scatter plot di atas dapat disumpulkan bahwa korelasi antar nilai cukup baik"
   ]
  },
  {
   "cell_type": "markdown",
   "id": "518dce01",
   "metadata": {
    "papermill": {
     "duration": 0.033968,
     "end_time": "2022-03-29T12:39:26.056046",
     "exception": false,
     "start_time": "2022-03-29T12:39:26.022078",
     "status": "completed"
    },
    "tags": []
   },
   "source": [
    "# Mencari Jumlah Cluster Optimal"
   ]
  },
  {
   "cell_type": "code",
   "execution_count": 13,
   "id": "ead3e060",
   "metadata": {
    "execution": {
     "iopub.execute_input": "2022-03-29T12:39:26.129139Z",
     "iopub.status.busy": "2022-03-29T12:39:26.128212Z",
     "iopub.status.idle": "2022-03-29T12:39:36.120588Z",
     "shell.execute_reply": "2022-03-29T12:39:36.121191Z",
     "shell.execute_reply.started": "2022-03-29T12:33:50.499134Z"
    },
    "papermill": {
     "duration": 10.030844,
     "end_time": "2022-03-29T12:39:36.121371",
     "exception": false,
     "start_time": "2022-03-29T12:39:26.090527",
     "status": "completed"
    },
    "tags": []
   },
   "outputs": [
    {
     "data": {
      "image/png": "[encoded data removed]",
      "text/plain": [
       "<Figure size 432x288 with 1 Axes>"
      ]
     },
     "metadata": {
      "needs_background": "light"
     },
     "output_type": "display_data"
    }
   ],
   "source": [
    "Sum_of_squared_distances = []\n",
    "K = range(1,11)\n",
    "for k in K:\n",
    "    km = KMeans(n_clusters=k)\n",
    "    km = km.fit(df)\n",
    "    Sum_of_squared_distances.append(km.inertia_) \n",
    "plt.plot(K, Sum_of_squared_distances, 'bo-')\n",
    "plt.title('Jumlah Cluster Optimal')\n",
    "plt.show()"
   ]
  },
  {
   "cell_type": "markdown",
   "id": "81671089",
   "metadata": {
    "papermill": {
     "duration": 0.035479,
     "end_time": "2022-03-29T12:39:36.193296",
     "exception": false,
     "start_time": "2022-03-29T12:39:36.157817",
     "status": "completed"
    },
    "tags": []
   },
   "source": [
    "Bedasarkan grafik di atas, saya akan menggunakan tiga cluster."
   ]
  },
  {
   "cell_type": "markdown",
   "id": "103eeafa",
   "metadata": {
    "papermill": {
     "duration": 0.035757,
     "end_time": "2022-03-29T12:39:36.264995",
     "exception": false,
     "start_time": "2022-03-29T12:39:36.229238",
     "status": "completed"
    },
    "tags": []
   },
   "source": [
    "# Membuat Model Machine Learning (K-means)"
   ]
  },
  {
   "cell_type": "code",
   "execution_count": 14,
   "id": "8d5c6b32",
   "metadata": {
    "execution": {
     "iopub.execute_input": "2022-03-29T12:39:36.345912Z",
     "iopub.status.busy": "2022-03-29T12:39:36.344905Z",
     "iopub.status.idle": "2022-03-29T12:39:36.406988Z",
     "shell.execute_reply": "2022-03-29T12:39:36.407449Z",
     "shell.execute_reply.started": "2022-03-29T12:34:00.501248Z"
    },
    "papermill": {
     "duration": 0.10667,
     "end_time": "2022-03-29T12:39:36.407614",
     "exception": false,
     "start_time": "2022-03-29T12:39:36.300944",
     "status": "completed"
    },
    "tags": []
   },
   "outputs": [
    {
     "name": "stdout",
     "output_type": "stream",
     "text": [
      "0    2\n",
      "1    0\n",
      "2    0\n",
      "3    1\n",
      "4    2\n",
      "Name: cluster, dtype: int32\n"
     ]
    }
   ],
   "source": [
    "#Kolom Features\n",
    "X = df[[\"gender\",\"race/ethnicity\",\"parental level of education\",\"lunch\",\"test preparation course\",\"math score\",\"reading score\",\"writing score\",\"final score\"]]  \n",
    "\n",
    "#Training Model\n",
    "cluster_model = KMeans(n_clusters = 3, random_state = 24)  \n",
    "labels = cluster_model.fit_predict(X)  \n",
    "\n",
    "# Membuat Kolom baru bernama 'cluster',\n",
    "df_final = df \n",
    "df_final['cluster'] = labels\n",
    "print(df_final['cluster'].head())"
   ]
  },
  {
   "cell_type": "markdown",
   "id": "0a6371ee",
   "metadata": {
    "papermill": {
     "duration": 0.035607,
     "end_time": "2022-03-29T12:39:36.479089",
     "exception": false,
     "start_time": "2022-03-29T12:39:36.443482",
     "status": "completed"
    },
    "tags": []
   },
   "source": [
    "# Membuat Kolom Keterangan Cluster\n",
    "saya akan membuat kolom bernama 'cluster description' untuk menerangkan cluster yang sudah dibuat sebelumnya : \n",
    "* cluster 0 menunjukan siswa yang memiliki peforma belajar yang baik \n",
    "* cluster 1 menunjukan siswa yang memiliki peforma belajar yang kurang\n",
    "* cluster 2 menunjukan siswa yang memiliki peforma belajar yang cukup"
   ]
  },
  {
   "cell_type": "code",
   "execution_count": 15,
   "id": "dad32078",
   "metadata": {
    "execution": {
     "iopub.execute_input": "2022-03-29T12:39:36.554614Z",
     "iopub.status.busy": "2022-03-29T12:39:36.554007Z",
     "iopub.status.idle": "2022-03-29T12:39:36.563937Z",
     "shell.execute_reply": "2022-03-29T12:39:36.563274Z",
     "shell.execute_reply.started": "2022-03-29T12:34:00.571982Z"
    },
    "papermill": {
     "duration": 0.0492,
     "end_time": "2022-03-29T12:39:36.564088",
     "exception": false,
     "start_time": "2022-03-29T12:39:36.514888",
     "status": "completed"
    },
    "tags": []
   },
   "outputs": [
    {
     "name": "stdout",
     "output_type": "stream",
     "text": [
      "   cluster cluster description\n",
      "0        2               Cukup\n",
      "1        0                Baik\n",
      "2        0                Baik\n",
      "3        1              Kurang\n",
      "4        2               Cukup\n"
     ]
    }
   ],
   "source": [
    "# Membuat Kolom keterangan cluster\n",
    "cluster_description = ({0 : 'Baik', \n",
    "                        1 : 'Kurang',\n",
    "                        2 : 'Cukup'})\n",
    "\n",
    "df_final['cluster description'] = df_final['cluster'].map(cluster_description)\n",
    "print(df_final[['cluster','cluster description']].head())"
   ]
  },
  {
   "cell_type": "markdown",
   "id": "790b2617",
   "metadata": {
    "papermill": {
     "duration": 0.036738,
     "end_time": "2022-03-29T12:39:36.638251",
     "exception": false,
     "start_time": "2022-03-29T12:39:36.601513",
     "status": "completed"
    },
    "tags": []
   },
   "source": [
    "Selanjutnya saya akan memvisualisasinya dalam bentuk scatter 3D"
   ]
  },
  {
   "cell_type": "code",
   "execution_count": 16,
   "id": "fe57a7aa",
   "metadata": {
    "execution": {
     "iopub.execute_input": "2022-03-29T12:39:36.722522Z",
     "iopub.status.busy": "2022-03-29T12:39:36.719821Z",
     "iopub.status.idle": "2022-03-29T12:39:36.958206Z",
     "shell.execute_reply": "2022-03-29T12:39:36.957700Z",
     "shell.execute_reply.started": "2022-03-29T12:34:00.585545Z"
    },
    "papermill": {
     "duration": 0.282993,
     "end_time": "2022-03-29T12:39:36.958331",
     "exception": false,
     "start_time": "2022-03-29T12:39:36.675338",
     "status": "completed"
    },
    "tags": []
   },
   "outputs": [
    {
     "data": {
      "text/html": [
       "<div>                            <div id=\"ed59ac9c-f6fc-4848-a8e1-9e5b39183cf8\" class=\"plotly-graph-div\" style=\"height:525px; width:100%;\"></div>            <script type=\"text/javascript\">                require([\"plotly\"], function(Plotly) {                    window.PLOTLYENV=window.PLOTLYENV || {};                                    if (document.getElementById(\"ed59ac9c-f6fc-4848-a8e1-9e5b39183cf8\")) {                    Plotly.newPlot(                        \"ed59ac9c-f6fc-4848-a8e1-9e5b39183cf8\",                        [{\"hovertemplate\":\"cluster description=Cukup<br>math score=%{x}<br>reading score=%{y}<br>writing score=%{z}<extra></extra>\",\"legendgroup\":\"Cukup\",\"marker\":{\"color\":\"#636efa\",\"symbol\":\"circle\"},\"mode\":\"markers\",\"name\":\"Cukup\",\"scene\":\"scene\",\"showlegend\":true,\"x\":[0.3731743249129954,0.6509116002531384,-0.18230022576729074,-0.11286590693225497,0.7897802379232101,0.1648713684078881,-0.043431588097219205,-0.11286590693225497,0.1648713684078881,0.5120429625830669,0.44260864374803116,0.026002730737816563,0.23430568724292386,-0.3211688634373623,0.1648713684078881,-0.2517345446023265,-0.7377747764475769,-0.5989061387775053,-0.5294718199424696,-0.8072090952826126,-0.043431588097219205,-0.6683404576125411,0.7203459190881742,0.8592145567582458,0.1648713684078881,0.026002730737816563,-0.4600375011074338,-0.5989061387775053,-0.2517345446023265,-0.39060318227239804,-0.3211688634373623,0.3731743249129954,0.30374000607795965,-0.5989061387775053,-0.11286590693225497,0.30374000607795965,-0.11286590693225497,-0.2517345446023265,-0.5989061387775053,-0.11286590693225497,0.8592145567582458,0.09543704957285233,-0.5989061387775053,-0.043431588097219205,-1.01551205178772,0.23430568724292386,-0.8072090952826126,0.3731743249129954,-0.11286590693225497,0.5120429625830669,0.23430568724292386,-0.5294718199424696,0.30374000607795965,0.6509116002531384,-0.5294718199424696,0.44260864374803116,0.09543704957285233,-0.3211688634373623,0.7203459190881742,-0.5294718199424696,-0.3211688634373623,-0.043431588097219205,-0.043431588097219205,-0.5989061387775053,0.09543704957285233,0.026002730737816563,0.3731743249129954,-0.2517345446023265,0.30374000607795965,-1.01551205178772,-0.3211688634373623,-0.11286590693225497,-0.11286590693225497,0.9286488755932816,-0.3211688634373623,-0.043431588097219205,-0.3211688634373623,0.7203459190881742,-0.5294718199424696,-0.11286590693225497,0.1648713684078881,-0.6683404576125411,0.5120429625830669,1.0675175132633532,-0.5989061387775053,-0.043431588097219205,-0.7377747764475769,-0.8072090952826126,-1.01551205178772,0.3731743249129954,0.09543704957285233,0.6509116002531384,-0.2517345446023265,-0.18230022576729074,0.44260864374803116,0.5814772814181027,-0.5989061387775053,-0.11286590693225497,0.09543704957285233,-0.4600375011074338,-0.3211688634373623,-0.18230022576729074,0.23430568724292386,-0.11286590693225497,-0.18230022576729074,0.6509116002531384,-0.2517345446023265,0.1648713684078881,0.30374000607795965,0.1648713684078881,-0.11286590693225497,-0.5294718199424696,0.44260864374803116,0.23430568724292386,0.6509116002531384,1.3452547886034962,-0.11286590693225497,0.026002730737816563,0.30374000607795965,0.9286488755932816,0.1648713684078881,-0.9460777329526842,0.44260864374803116,-0.043431588097219205,0.026002730737816563,0.09543704957285233,-0.5294718199424696,0.30374000607795965,-0.2517345446023265,-0.7377747764475769,-0.39060318227239804,0.30374000607795965,-0.39060318227239804,0.6509116002531384,-0.39060318227239804,0.1648713684078881,0.026002730737816563,0.8592145567582458,0.3731743249129954,0.5814772814181027,-1.01551205178772,-0.2517345446023265,-0.5294718199424696,-0.39060318227239804,-0.2517345446023265,-0.5294718199424696,-0.39060318227239804,-1.5015522836329704,0.5120429625830669,-0.5294718199424696,-0.043431588097219205,0.026002730737816563,-0.18230022576729074,-0.6683404576125411,-0.3211688634373623,0.44260864374803116,0.44260864374803116,0.7203459190881742,0.6509116002531384,-0.11286590693225497,0.5120429625830669,-0.2517345446023265,-0.11286590693225497,0.23430568724292386,0.30374000607795965,-0.2517345446023265,-1.0849463706227558,1.2063861509334246,0.30374000607795965,0.5120429625830669,0.09543704957285233,-0.5294718199424696,-0.3211688634373623,0.1648713684078881,0.09543704957285233,-0.18230022576729074,-0.39060318227239804,0.44260864374803116,0.5814772814181027,0.5814772814181027,0.026002730737816563,-0.5294718199424696,0.026002730737816563,0.1648713684078881,0.9980831944283173,-0.11286590693225497,0.3731743249129954,0.30374000607795965,0.5814772814181027,0.3731743249129954,-0.2517345446023265,-0.5294718199424696,0.6509116002531384,0.9286488755932816,-0.8072090952826126,0.6509116002531384,0.44260864374803116,0.09543704957285233,0.23430568724292386,-0.4600375011074338,-0.11286590693225497,-0.18230022576729074,-0.8766434141176485,0.09543704957285233,-0.5294718199424696,-0.043431588097219205,0.6509116002531384,0.09543704957285233,0.6509116002531384,-0.043431588097219205,-0.043431588097219205,0.026002730737816563,0.1648713684078881,0.09543704957285233,-0.3211688634373623,0.09543704957285233,-0.3211688634373623,0.44260864374803116,1.2758204697684603,0.5814772814181027,-0.18230022576729074,0.3731743249129954,-0.3211688634373623,0.8592145567582458,0.8592145567582458,0.7203459190881742,-0.8072090952826126,-0.39060318227239804,-0.9460777329526842,0.44260864374803116,0.5120429625830669,-0.2517345446023265,-0.2517345446023265,-0.39060318227239804,0.09543704957285233,0.30374000607795965,0.5120429625830669,-0.9460777329526842,-0.2517345446023265,0.44260864374803116,0.1648713684078881,-0.11286590693225497,-0.8072090952826126,-0.8766434141176485,0.30374000607795965,0.09543704957285233,0.5120429625830669,-0.7377747764475769,0.1648713684078881,-0.11286590693225497,0.5814772814181027,-0.39060318227239804,-0.5989061387775053,0.1648713684078881,-0.5989061387775053,-0.11286590693225497,-0.4600375011074338,-0.11286590693225497,-0.3211688634373623,-0.39060318227239804,0.1648713684078881,0.026002730737816563,0.8592145567582458,-0.043431588097219205,0.30374000607795965,0.026002730737816563,0.6509116002531384,0.23430568724292386,-0.11286590693225497,-0.5294718199424696,-0.18230022576729074,0.1648713684078881,0.09543704957285233,-0.11286590693225497,-0.3211688634373623,0.7203459190881742,0.1648713684078881,0.5120429625830669,0.44260864374803116,-0.8072090952826126,-0.11286590693225497,0.9286488755932816,-0.2517345446023265,0.44260864374803116,-0.043431588097219205,0.1648713684078881,0.1648713684078881,0.44260864374803116,0.23430568724292386,-0.2517345446023265,0.026002730737816563,-0.4600375011074338,-0.3211688634373623,1.2758204697684603,0.7203459190881742,0.44260864374803116,-0.043431588097219205,0.7203459190881742,-0.5294718199424696,-0.6683404576125411,-0.043431588097219205,-0.6683404576125411,-0.2517345446023265,-0.5294718199424696,-0.3211688634373623,-0.4600375011074338,0.44260864374803116,0.6509116002531384,-0.3211688634373623,0.9980831944283173,-0.11286590693225497,0.09543704957285233,0.026002730737816563,-0.9460777329526842,0.9980831944283173,0.9286488755932816,-0.5294718199424696,0.3731743249129954,0.1648713684078881,0.1648713684078881,0.30374000607795965,0.09543704957285233,0.23430568724292386,0.1648713684078881,-0.9460777329526842,-0.3211688634373623,-0.4600375011074338,0.5120429625830669,-0.5989061387775053,0.6509116002531384,0.09543704957285233,0.5814772814181027,-1.01551205178772,-0.3211688634373623,-0.043431588097219205,-0.043431588097219205,0.3731743249129954,0.09543704957285233,-0.4600375011074338,-0.043431588097219205,-0.6683404576125411,0.23430568724292386,0.1648713684078881,0.026002730737816563,0.6509116002531384,0.44260864374803116,-0.18230022576729074,-0.8766434141176485,-0.39060318227239804,-0.4600375011074338,-0.3211688634373623,-0.7377747764475769,-0.11286590693225497,-0.18230022576729074,-0.4600375011074338,0.44260864374803116,-0.043431588097219205,0.5120429625830669,-0.5294718199424696,0.9286488755932816,0.30374000607795965,-0.39060318227239804,1.0675175132633532,-0.3211688634373623,0.5814772814181027,-0.11286590693225497,0.30374000607795965,0.7897802379232101,0.23430568724292386,0.9286488755932816,-0.5294718199424696,-0.18230022576729074,-0.2517345446023265,0.30374000607795965,-0.18230022576729074,-0.3211688634373623,-0.8766434141176485,0.1648713684078881,-1.1543806894577915,-0.5294718199424696,-0.2517345446023265,0.026002730737816563,-0.11286590693225497,0.44260864374803116,0.026002730737816563,0.23430568724292386,0.09543704957285233,-0.6683404576125411,0.1648713684078881,0.3731743249129954,-0.8766434141176485,0.5120429625830669,0.5120429625830669,-0.11286590693225497,0.026002730737816563,-0.3211688634373623,-0.39060318227239804,0.23430568724292386,0.23430568724292386,0.7203459190881742,0.3731743249129954,0.9980831944283173,-0.39060318227239804,-0.5989061387775053,-0.6683404576125411,0.5120429625830669,-0.3211688634373623,0.3731743249129954,0.5814772814181027,-0.11286590693225497,0.3731743249129954,-0.3211688634373623,-0.043431588097219205,-0.2517345446023265,0.09543704957285233,0.7897802379232101,-0.8766434141176485,-0.18230022576729074,-0.4600375011074338,-0.3211688634373623,-0.11286590693225497,-0.8072090952826126,-0.3211688634373623,-0.2517345446023265,-0.5294718199424696,0.09543704957285233],\"y\":[0.1684060158267006,0.5966818038235606,-0.40262836816911274,0.8108196978219906,0.1684060158267006,0.3825439098251306,-0.04573187817172942,0.3825439098251306,0.23978531382617724,0.09702671782722391,0.3111646118256539,-0.04573187817172942,0.025647419827747247,0.025647419827747247,0.3111646118256539,-0.33124907016963606,0.1684060158267006,0.23978531382617724,-0.33124907016963606,-0.33124907016963606,0.09702671782722391,0.3111646118256539,-0.04573187817172942,0.3111646118256539,0.7394403998225139,-0.40262836816911274,0.1684060158267006,-0.4740076661685894,-1.0450420501644027,0.3111646118256539,-0.11711117617120609,-0.40262836816911274,0.09702671782722391,0.025647419827747247,0.1684060158267006,0.6680611018230372,-0.25986977217015944,0.1684060158267006,-0.18849047417068274,-0.18849047417068274,-0.18849047417068274,0.3111646118256539,-0.18849047417068274,-0.4740076661685894,0.45392320782460727,-0.40262836816911274,-0.04573187817172942,-0.11711117617120609,0.5253025058240839,0.6680611018230372,-1.0450420501644027,-0.25986977217015944,-0.6167662621675427,0.1684060158267006,-0.5453869641680661,-0.11711117617120609,0.3825439098251306,-0.18849047417068274,-0.18849047417068274,0.025647419827747247,-0.18849047417068274,0.3111646118256539,-0.5453869641680661,0.45392320782460727,0.953578293820944,0.3825439098251306,0.23978531382617724,-0.18849047417068274,0.5253025058240839,0.025647419827747247,-0.11711117617120609,-0.04573187817172942,-0.18849047417068274,0.45392320782460727,-0.25986977217015944,-0.33124907016963606,-0.40262836816911274,-0.5453869641680661,-0.04573187817172942,0.8108196978219906,0.5253025058240839,-0.04573187817172942,0.09702671782722391,-0.5453869641680661,-0.6167662621675427,0.5253025058240839,-0.11711117617120609,-0.33124907016963606,-0.25986977217015944,0.1684060158267006,0.1684060158267006,-0.40262836816911274,-0.25986977217015944,-0.6881455601670194,-0.11711117617120609,0.3111646118256539,0.025647419827747247,-0.40262836816911274,-0.6881455601670194,0.025647419827747247,0.23978531382617724,0.23978531382617724,0.3825439098251306,0.8108196978219906,0.6680611018230372,0.23978531382617724,0.3825439098251306,0.1684060158267006,0.45392320782460727,-0.4740076661685894,0.025647419827747247,-0.4740076661685894,-0.973662752164926,0.5966818038235606,0.025647419827747247,0.23978531382617724,0.23978531382617724,-0.5453869641680661,0.3111646118256539,0.45392320782460727,-0.18849047417068274,0.09702671782722391,0.45392320782460727,-0.6881455601670194,-0.6167662621675427,-0.18849047417068274,-0.40262836816911274,-0.25986977217015944,0.09702671782722391,-0.33124907016963606,-0.6167662621675427,-0.6881455601670194,-0.11711117617120609,0.025647419827747247,0.23978531382617724,0.45392320782460727,0.1684060158267006,0.23978531382617724,0.7394403998225139,0.3111646118256539,-0.33124907016963606,0.5966818038235606,0.09702671782722391,0.1684060158267006,-0.6167662621675427,-0.5453869641680661,-0.25986977217015944,0.23978531382617724,0.3111646118256539,0.025647419827747247,-0.40262836816911274,0.45392320782460727,0.23978531382617724,0.5966818038235606,-0.40262836816911274,0.025647419827747247,-0.18849047417068274,-0.11711117617120609,-0.18849047417068274,0.3111646118256539,-0.4740076661685894,0.23978531382617724,-0.33124907016963606,0.09702671782722391,-0.25986977217015944,-0.18849047417068274,0.1684060158267006,0.23978531382617724,0.3111646118256539,0.23978531382617724,-0.7595248581664961,1.0963368898198973,-0.18849047417068274,0.09702671782722391,-0.4740076661685894,-0.25986977217015944,0.1684060158267006,-0.25986977217015944,-0.11711117617120609,-0.25986977217015944,0.8108196978219906,0.23978531382617724,0.3111646118256539,-0.25986977217015944,0.23978531382617724,0.5253025058240839,-0.33124907016963606,0.025647419827747247,-0.8309041561659728,-0.18849047417068274,-0.04573187817172942,-0.18849047417068274,-0.5453869641680661,-0.11711117617120609,-0.40262836816911274,0.09702671782722391,0.09702671782722391,-0.11711117617120609,0.3111646118256539,0.3825439098251306,1.0963368898198973,-0.40262836816911274,-0.40262836816911274,-0.40262836816911274,0.5966818038235606,-0.04573187817172942,0.09702671782722391,0.025647419827747247,0.09702671782722391,0.3111646118256539,0.5966818038235606,0.5966818038235606,-0.8309041561659728,-0.6881455601670194,0.3111646118256539,-0.18849047417068274,-0.6167662621675427,-0.04573187817172942,-0.25986977217015944,-0.04573187817172942,-0.4740076661685894,-0.18849047417068274,-0.18849047417068274,0.1684060158267006,0.45392320782460727,-0.5453869641680661,0.1684060158267006,-0.18849047417068274,0.025647419827747247,-0.25986977217015944,0.3825439098251306,0.3111646118256539,0.7394403998225139,0.09702671782722391,-0.11711117617120609,0.3825439098251306,0.8108196978219906,-0.6167662621675427,0.23978531382617724,0.3825439098251306,0.5253025058240839,0.45392320782460727,0.23978531382617724,-0.40262836816911274,-0.5453869641680661,-0.11711117617120609,0.45392320782460727,0.6680611018230372,0.5253025058240839,0.8821989958214672,0.1684060158267006,-0.40262836816911274,-0.4740076661685894,-0.6881455601670194,-0.7595248581664961,0.5253025058240839,-0.11711117617120609,0.23978531382617724,-0.4740076661685894,-0.8309041561659728,0.025647419827747247,-0.40262836816911274,-0.6881455601670194,0.3111646118256539,0.3111646118256539,0.7394403998225139,0.3111646118256539,-0.33124907016963606,0.8108196978219906,0.025647419827747247,-0.5453869641680661,0.6680611018230372,0.7394403998225139,0.025647419827747247,-0.18849047417068274,-0.18849047417068274,-0.25986977217015944,0.5253025058240839,-0.25986977217015944,0.09702671782722391,-0.04573187817172942,-0.4740076661685894,0.23978531382617724,0.3111646118256539,0.45392320782460727,0.5966818038235606,0.5253025058240839,0.5966818038235606,0.8821989958214672,-0.6167662621675427,0.1684060158267006,-0.11711117617120609,-0.25986977217015944,0.3825439098251306,0.5966818038235606,0.45392320782460727,0.3111646118256539,0.5253025058240839,0.1684060158267006,0.5966818038235606,-0.25986977217015944,-0.18849047417068274,-0.40262836816911274,-0.4740076661685894,0.1684060158267006,0.025647419827747247,0.5966818038235606,0.45392320782460727,0.1684060158267006,0.3111646118256539,0.3825439098251306,0.5253025058240839,-0.9022834541654494,-0.25986977217015944,0.09702671782722391,0.23978531382617724,0.23978531382617724,0.6680611018230372,0.3825439098251306,-0.40262836816911274,-0.04573187817172942,0.1684060158267006,-0.11711117617120609,0.5253025058240839,0.1684060158267006,-0.5453869641680661,-0.4740076661685894,0.1684060158267006,0.3825439098251306,-0.5453869641680661,0.09702671782722391,0.23978531382617724,-0.18849047417068274,0.5966818038235606,-0.33124907016963606,0.1684060158267006,0.6680611018230372,-0.33124907016963606,-0.25986977217015944,0.3111646118256539,-0.11711117617120609,0.025647419827747247,-0.6881455601670194,0.23978531382617724,0.7394403998225139,0.45392320782460727,0.3111646118256539,-0.40262836816911274,0.025647419827747247,0.1684060158267006,-0.18849047417068274,-0.11711117617120609,-0.04573187817172942,-0.6881455601670194,-0.40262836816911274,-0.40262836816911274,0.5253025058240839,0.5253025058240839,0.1684060158267006,0.3825439098251306,-0.18849047417068274,-0.11711117617120609,-0.18849047417068274,-0.40262836816911274,-0.11711117617120609,0.6680611018230372,0.09702671782722391,0.3111646118256539,0.1684060158267006,-0.40262836816911274,0.1684060158267006,0.45392320782460727,-0.40262836816911274,0.025647419827747247,0.23978531382617724,0.45392320782460727,0.1684060158267006,-0.33124907016963606,-0.18849047417068274,-0.5453869641680661,0.5966818038235606,-1.1164213481638794,0.5966818038235606,0.5966818038235606,0.3825439098251306,-0.40262836816911274,0.025647419827747247,0.5253025058240839,0.025647419827747247,-0.25986977217015944,-0.33124907016963606,0.025647419827747247,-0.40262836816911274,-0.6167662621675427,0.3111646118256539,-0.9022834541654494,0.09702671782722391,0.3825439098251306,-0.4740076661685894,-0.11711117617120609,-0.25986977217015944,-0.25986977217015944,-0.5453869641680661,-0.11711117617120609,0.3825439098251306,0.3111646118256539,-0.04573187817172942,-0.9022834541654494,0.8108196978219906,0.45392320782460727,-0.9022834541654494,0.025647419827747247,-0.11711117617120609,-0.4740076661685894,0.45392320782460727,0.1684060158267006,-0.4740076661685894,0.8821989958214672,-0.5453869641680661,-0.33124907016963606,0.8821989958214672,0.45392320782460727,0.1684060158267006,-0.4740076661685894,0.09702671782722391,0.5966818038235606],\"z\":[0.37424097932461403,0.44312139802295947,-0.10792195156380398,0.3053605606262686,0.09871930453123232,0.6497626541179957,-0.3834436263571857,0.09871930453123232,0.3053605606262686,0.7875234915146866,0.23648014192792316,0.44312139802295947,-0.24568278896049484,0.44312139802295947,0.37424097932461403,-0.5212044637538765,-0.24568278896049484,-0.039041532865458556,-0.17680237026214943,-0.45232404505553114,0.5120018167213048,0.5120018167213048,-0.039041532865458556,0.23648014192792316,0.16759972322957775,-0.5212044637538765,0.37424097932461403,0.3053605606262686,-0.3834436263571857,0.23648014192792316,-0.039041532865458556,-0.3834436263571857,0.37424097932461403,-0.10792195156380398,0.37424097932461403,0.16759972322957775,-0.45232404505553114,0.09871930453123232,-0.45232404505553114,-0.45232404505553114,-0.10792195156380398,0.37424097932461403,0.23648014192792316,-0.31456320765884027,0.09871930453123232,0.23648014192792316,-0.24568278896049484,-0.10792195156380398,0.37424097932461403,0.44312139802295947,-0.8656065572456038,-0.10792195156380398,0.02983888583288688,0.16759972322957775,-0.31456320765884027,-0.17680237026214943,0.8564039102130321,0.02983888583288688,-0.039041532865458556,-0.17680237026214943,-0.5212044637538765,0.6497626541179957,-0.31456320765884027,0.6497626541179957,0.6497626541179957,0.09871930453123232,0.37424097932461403,0.09871930453123232,0.5808822354196503,-0.45232404505553114,0.44312139802295947,0.09871930453123232,-0.24568278896049484,-0.24568278896049484,-0.039041532865458556,0.02983888583288688,-0.17680237026214943,-0.45232404505553114,-0.24568278896049484,0.5808822354196503,0.02983888583288688,-0.039041532865458556,0.6497626541179957,-0.45232404505553114,-0.17680237026214943,0.09871930453123232,0.37424097932461403,-0.45232404505553114,0.3053605606262686,0.16759972322957775,-0.31456320765884027,-0.17680237026214943,-0.10792195156380398,0.37424097932461403,-0.17680237026214943,0.02983888583288688,-0.039041532865458556,-0.45232404505553114,-1.0722478133406401,0.09871930453123232,0.09871930453123232,-0.039041532865458556,0.6497626541179957,0.8564039102130321,0.5808822354196503,-0.039041532865458556,0.8564039102130321,0.5808822354196503,0.09871930453123232,-0.5212044637538765,0.16759972322957775,0.44312139802295947,-0.7967261385472583,0.6497626541179957,-0.039041532865458556,0.09871930453123232,0.44312139802295947,-0.590084882452222,-0.039041532865458556,-0.31456320765884027,0.02983888583288688,-0.10792195156380398,0.7875234915146866,-0.7967261385472583,-0.039041532865458556,0.02983888583288688,0.44312139802295947,-0.24568278896049484,0.02983888583288688,-0.3834436263571857,-0.45232404505553114,-0.5212044637538765,-0.17680237026214943,0.02983888583288688,-0.3834436263571857,0.37424097932461403,-0.10792195156380398,-0.10792195156380398,0.44312139802295947,-0.17680237026214943,0.02983888583288688,0.7875234915146866,0.09871930453123232,0.09871930453123232,-0.5212044637538765,-0.5212044637538765,-0.5212044637538765,0.09871930453123232,0.23648014192792316,0.3053605606262686,-0.45232404505553114,0.44312139802295947,0.09871930453123232,-0.10792195156380398,-0.31456320765884027,0.44312139802295947,-0.6589653011505674,0.5808822354196503,-0.10792195156380398,0.5808822354196503,-0.7967261385472583,-0.039041532865458556,-0.3834436263571857,0.37424097932461403,-0.590084882452222,-0.10792195156380398,0.7186430728163412,0.02983888583288688,-0.039041532865458556,-0.10792195156380398,-0.45232404505553114,0.7875234915146866,-0.45232404505553114,-0.24568278896049484,-1.0033673946422945,-0.6589653011505674,0.09871930453123232,-0.17680237026214943,-0.31456320765884027,0.3053605606262686,0.7186430728163412,0.02983888583288688,0.5808822354196503,-0.590084882452222,0.23648014192792316,0.37424097932461403,-0.039041532865458556,0.5120018167213048,-0.45232404505553114,-0.24568278896049484,0.37424097932461403,-0.5212044637538765,-0.17680237026214943,0.23648014192792316,0.09871930453123232,-0.10792195156380398,-0.039041532865458556,-0.5212044637538765,0.16759972322957775,0.37424097932461403,0.5120018167213048,0.09871930453123232,-0.039041532865458556,-0.17680237026214943,0.5120018167213048,-0.039041532865458556,0.23648014192792316,-0.17680237026214943,0.3053605606262686,0.3053605606262686,0.6497626541179957,0.7186430728163412,-0.7967261385472583,-0.6589653011505674,0.09871930453123232,0.3053605606262686,-0.7278457198489129,-0.039041532865458556,0.16759972322957775,-0.039041532865458556,-0.17680237026214943,-0.31456320765884027,-0.31456320765884027,0.02983888583288688,-0.24568278896049484,-0.31456320765884027,0.7186430728163412,-0.17680237026214943,0.09871930453123232,-0.45232404505553114,0.7186430728163412,0.37424097932461403,0.7875234915146866,0.6497626541179957,-0.10792195156380398,0.09871930453123232,0.16759972322957775,-0.039041532865458556,0.6497626541179957,0.7875234915146866,0.5808822354196503,0.5120018167213048,0.3053605606262686,-0.24568278896049484,-1.2788890694356763,-0.31456320765884027,0.3053605606262686,0.23648014192792316,0.3053605606262686,0.8564039102130321,-0.45232404505553114,-0.45232404505553114,-0.24568278896049484,-0.3834436263571857,-0.17680237026214943,0.37424097932461403,0.23648014192792316,-0.039041532865458556,-0.8656065572456038,-0.45232404505553114,-0.3834436263571857,0.09871930453123232,-0.24568278896049484,0.8564039102130321,-0.31456320765884027,0.8564039102130321,0.3053605606262686,-0.590084882452222,0.8564039102130321,-0.24568278896049484,-0.039041532865458556,0.8564039102130321,0.5120018167213048,0.37424097932461403,-0.10792195156380398,-0.31456320765884027,-0.5212044637538765,0.3053605606262686,-0.3834436263571857,0.02983888583288688,-0.10792195156380398,-0.3834436263571857,0.16759972322957775,-0.5212044637538765,-0.039041532865458556,0.5120018167213048,0.6497626541179957,0.5120018167213048,0.5120018167213048,-0.590084882452222,0.37424097932461403,-0.590084882452222,-0.039041532865458556,-0.039041532865458556,0.3053605606262686,0.6497626541179957,0.8564039102130321,0.3053605606262686,0.09871930453123232,0.7186430728163412,-0.6589653011505674,0.23648014192792316,-0.10792195156380398,-0.31456320765884027,-0.24568278896049484,0.37424097932461403,0.23648014192792316,0.37424097932461403,0.09871930453123232,0.16759972322957775,0.5808822354196503,0.7875234915146866,-0.6589653011505674,0.3053605606262686,0.3053605606262686,0.23648014192792316,0.23648014192792316,0.37424097932461403,0.16759972322957775,-0.039041532865458556,-0.039041532865458556,-0.24568278896049484,0.23648014192792316,0.5808822354196503,-0.31456320765884027,-0.3834436263571857,-0.6589653011505674,0.23648014192792316,0.5808822354196503,-0.590084882452222,0.44312139802295947,0.37424097932461403,0.23648014192792316,0.7186430728163412,-0.590084882452222,0.09871930453123232,0.5808822354196503,-0.5212044637538765,0.09871930453123232,0.02983888583288688,0.3053605606262686,0.09871930453123232,-1.0033673946422945,-0.039041532865458556,0.3053605606262686,0.6497626541179957,0.44312139802295947,-0.10792195156380398,0.5120018167213048,-0.039041532865458556,-0.7278457198489129,0.09871930453123232,0.5120018167213048,-0.7278457198489129,0.37424097932461403,-0.7967261385472583,0.3053605606262686,0.5120018167213048,-0.039041532865458556,0.02983888583288688,-0.10792195156380398,-0.3834436263571857,-0.5212044637538765,-0.9344869759439491,-0.24568278896049484,0.8564039102130321,0.7875234915146866,0.23648014192792316,0.5120018167213048,-0.17680237026214943,0.7875234915146866,0.37424097932461403,-0.17680237026214943,0.09871930453123232,0.16759972322957775,0.7875234915146866,-0.6589653011505674,0.37424097932461403,0.3053605606262686,0.02983888583288688,0.7186430728163412,-0.3834436263571857,0.9252843289113775,0.37424097932461403,0.23648014192792316,0.09871930453123232,-0.17680237026214943,0.7875234915146866,-0.10792195156380398,-0.17680237026214943,-0.24568278896049484,0.02983888583288688,-0.590084882452222,0.16759972322957775,0.09871930453123232,-0.45232404505553114,0.3053605606262686,0.37424097932461403,-0.7278457198489129,0.02983888583288688,0.23648014192792316,-0.31456320765884027,-0.5212044637538765,-0.5212044637538765,0.3053605606262686,0.23648014192792316,0.02983888583288688,-0.45232404505553114,0.16759972322957775,0.44312139802295947,-0.7278457198489129,0.23648014192792316,-0.31456320765884027,-0.590084882452222,-0.10792195156380398,0.02983888583288688,-0.10792195156380398,0.5808822354196503,-0.590084882452222,-0.7278457198489129,0.6497626541179957,0.5120018167213048,0.37424097932461403,-0.45232404505553114,-0.24568278896049484,0.5808822354196503],\"type\":\"scatter3d\"},{\"hovertemplate\":\"cluster description=Baik<br>math score=%{x}<br>reading score=%{y}<br>writing score=%{z}<extra></extra>\",\"legendgroup\":\"Baik\",\"marker\":{\"color\":\"#EF553B\",\"symbol\":\"circle\"},\"mode\":\"markers\",\"name\":\"Baik\",\"scene\":\"scene\",\"showlegend\":true,\"x\":[0.1648713684078881,1.6229920639436393,0.30374000607795965,1.4841234262735676,1.4841234262735676,2.10903229578889,0.9980831944283173,0.5120429625830669,0.5814772814181027,1.0675175132633532,1.4841234262735676,0.30374000607795965,1.0675175132633532,0.9286488755932816,0.44260864374803116,0.6509116002531384,0.44260864374803116,0.8592145567582458,0.7897802379232101,1.2758204697684603,2.1784666146239253,1.414689107438532,0.7203459190881742,2.2479009334589612,1.2063861509334246,0.5814772814181027,0.7897802379232101,0.8592145567582458,1.692426382778675,1.4841234262735676,1.136951832098389,1.414689107438532,1.0675175132633532,1.5535577451086036,1.414689107438532,0.5814772814181027,1.4841234262735676,1.4841234262735676,2.3173352522939967,0.23430568724292386,-0.39060318227239804,1.0675175132633532,0.5814772814181027,0.9980831944283173,2.039597976953854,1.9007293392837823,0.8592145567582458,0.9980831944283173,2.10903229578889,0.7203459190881742,0.6509116002531384,0.1648713684078881,0.7897802379232101,0.026002730737816563,0.9980831944283173,0.5120429625830669,0.9286488755932816,1.414689107438532,1.2063861509334246,1.136951832098389,1.414689107438532,1.3452547886034962,1.4841234262735676,0.026002730737816563,1.7618607016137109,1.136951832098389,0.9286488755932816,1.2063861509334246,0.9286488755932816,1.2758204697684603,1.5535577451086036,0.30374000607795965,0.9286488755932816,0.7897802379232101,0.8592145567582458,2.2479009334589612,1.4841234262735676,1.4841234262735676,1.136951832098389,1.2758204697684603,-0.11286590693225497,0.44260864374803116,0.9980831944283173,2.10903229578889,0.026002730737816563,1.4841234262735676,0.7203459190881742,0.7897802379232101,1.6229920639436393,0.9980831944283173,0.026002730737816563,0.5120429625830669,2.2479009334589612,0.7203459190881742,1.136951832098389,0.026002730737816563,0.5814772814181027,0.30374000607795965,1.0675175132633532,1.0675175132633532,1.6229920639436393,1.136951832098389,0.7203459190881742,1.414689107438532,0.9286488755932816,1.2758204697684603,0.44260864374803116,1.2063861509334246,1.0675175132633532,0.9286488755932816,1.2758204697684603,0.30374000607795965,0.9286488755932816,1.414689107438532,0.8592145567582458,1.2758204697684603,1.4841234262735676,1.0675175132633532,1.414689107438532,1.2063861509334246,1.0675175132633532,1.3452547886034962,1.5535577451086036,0.7897802379232101,0.44260864374803116,0.8592145567582458,1.3452547886034962,-0.18230022576729074,2.3173352522939967,0.8592145567582458,2.3173352522939967,0.7203459190881742,1.2063861509334246,0.7203459190881742,1.692426382778675,1.136951832098389,0.09543704957285233,1.6229920639436393,0.30374000607795965,0.8592145567582458,1.136951832098389,0.9980831944283173,0.5120429625830669,1.9007293392837823,1.970163658118818,1.0675175132633532,0.8592145567582458,1.3452547886034962,0.7203459190881742,0.6509116002531384,0.5120429625830669,1.692426382778675,0.8592145567582458,-0.043431588097219205,2.10903229578889,0.8592145567582458,0.9980831944283173,1.0675175132633532,0.7897802379232101,1.7618607016137109,1.414689107438532,2.039597976953854,1.7618607016137109,1.692426382778675,0.9980831944283173,0.9980831944283173,0.7203459190881742,1.7618607016137109,0.6509116002531384,1.2063861509334246,1.2758204697684603,1.9007293392837823,1.0675175132633532,1.4841234262735676,1.970163658118818,2.3173352522939967,2.3173352522939967,0.5814772814181027,1.2063861509334246,0.9286488755932816,1.3452547886034962,0.5120429625830669,0.3731743249129954,0.5120429625830669,1.2758204697684603,0.44260864374803116,1.6229920639436393,0.7203459190881742,0.9980831944283173,-0.11286590693225497,0.9980831944283173,1.9007293392837823,1.8312950204487466,0.8592145567582458,0.5814772814181027,0.8592145567582458,1.414689107438532,1.5535577451086036,1.8312950204487466,0.9286488755932816,2.1784666146239253,0.9980831944283173,0.6509116002531384,2.039597976953854,1.692426382778675,0.5120429625830669,0.44260864374803116,1.414689107438532,1.7618607016137109,0.9980831944283173,1.414689107438532,0.8592145567582458,0.7203459190881742,1.2063861509334246,0.7897802379232101,0.3731743249129954,1.9007293392837823,0.7203459190881742,0.6509116002531384,1.692426382778675,1.5535577451086036,0.23430568724292386,1.414689107438532,1.0675175132633532,0.5814772814181027,1.6229920639436393,1.414689107438532,0.3731743249129954,1.9007293392837823,0.7203459190881742,1.2758204697684603,0.7897802379232101,0.30374000607795965,0.1648713684078881,0.5120429625830669,0.7203459190881742,0.5814772814181027,1.6229920639436393,1.692426382778675,1.414689107438532,2.10903229578889,1.414689107438532,0.9980831944283173,2.10903229578889,1.0675175132633532,1.0675175132633532,1.6229920639436393,0.9980831944283173,1.8312950204487466,1.3452547886034962,1.2758204697684603,1.4841234262735676,1.2758204697684603,1.8312950204487466,0.026002730737816563,1.4841234262735676,0.8592145567582458,0.1648713684078881,2.3173352522939967,1.692426382778675,2.1784666146239253,1.2758204697684603,0.7897802379232101,1.0675175132633532,1.9007293392837823,0.5814772814181027,1.2063861509334246,1.7618607016137109,2.3173352522939967,0.5814772814181027,1.5535577451086036,1.692426382778675,0.9980831944283173,0.8592145567582458,0.7897802379232101,0.5120429625830669,0.9980831944283173,0.026002730737816563,1.3452547886034962,1.4841234262735676,0.7203459190881742],\"y\":[1.4532333798172805,1.810129869814664,0.953578293820944,1.810129869814664,1.381854081817804,1.2390954858188505,0.8108196978219906,0.8108196978219906,1.4532333798172805,1.0249575918204206,0.5966818038235606,1.0249575918204206,1.0963368898198973,0.5966818038235606,0.7394403998225139,0.953578293820944,1.1677161878193738,1.1677161878193738,0.8108196978219906,1.5246126778167572,1.1677161878193738,2.167026359812047,1.381854081817804,2.167026359812047,0.5253025058240839,1.0963368898198973,0.8821989958214672,1.595991975816234,1.381854081817804,1.6673712738157105,0.7394403998225139,1.810129869814664,0.8821989958214672,1.0249575918204206,0.3111646118256539,0.8108196978219906,0.23978531382617724,1.0249575918204206,2.167026359812047,1.381854081817804,1.1677161878193738,0.5966818038235606,1.3104747838183273,1.595991975816234,2.167026359812047,1.3104747838183273,1.1677161878193738,1.5246126778167572,2.167026359812047,1.3104747838183273,0.953578293820944,1.0249575918204206,0.6680611018230372,1.0249575918204206,0.7394403998225139,0.8108196978219906,0.6680611018230372,1.5246126778167572,0.953578293820944,1.1677161878193738,1.0963368898198973,0.7394403998225139,1.810129869814664,1.1677161878193738,1.2390954858188505,0.8821989958214672,0.3825439098251306,0.7394403998225139,0.953578293820944,0.45392320782460727,0.45392320782460727,0.953578293820944,0.7394403998225139,0.5253025058240839,0.6680611018230372,1.6673712738157105,1.595991975816234,1.0963368898198973,0.5966818038235606,1.595991975816234,1.1677161878193738,0.6680611018230372,0.8821989958214672,0.8821989958214672,1.381854081817804,0.3825439098251306,0.45392320782460727,0.5253025058240839,1.2390954858188505,0.5966818038235606,1.0249575918204206,0.3825439098251306,1.2390954858188505,0.8821989958214672,0.1684060158267006,0.6680611018230372,1.1677161878193738,0.8108196978219906,1.4532333798172805,0.3825439098251306,0.5966818038235606,1.6673712738157105,1.7387505718151872,0.3111646118256539,1.4532333798172805,1.0249575918204206,1.0249575918204206,0.5253025058240839,1.9528884658136172,1.4532333798172805,1.810129869814664,0.953578293820944,1.1677161878193738,2.167026359812047,0.8108196978219906,1.381854081817804,2.0956470618125707,0.7394403998225139,1.0249575918204206,0.953578293820944,1.6673712738157105,0.953578293820944,1.3104747838183273,0.8108196978219906,0.953578293820944,0.8821989958214672,0.8108196978219906,1.0963368898198973,1.595991975816234,1.381854081817804,2.167026359812047,1.4532333798172805,1.2390954858188505,1.3104747838183273,0.3111646118256539,1.0963368898198973,1.1677161878193738,1.4532333798172805,0.45392320782460727,0.8821989958214672,0.953578293820944,1.3104747838183273,0.6680611018230372,1.2390954858188505,1.381854081817804,0.8821989958214672,0.5966818038235606,1.595991975816234,1.9528884658136172,1.2390954858188505,1.381854081817804,1.1677161878193738,1.3104747838183273,0.953578293820944,1.595991975816234,0.8821989958214672,0.5253025058240839,1.810129869814664,0.953578293820944,2.167026359812047,1.4532333798172805,1.4532333798172805,2.167026359812047,1.8815091678141405,1.5246126778167572,1.9528884658136172,0.6680611018230372,2.167026359812047,0.5966818038235606,1.381854081817804,1.0249575918204206,1.4532333798172805,1.6673712738157105,0.5966818038235606,0.8108196978219906,1.8815091678141405,1.9528884658136172,1.3104747838183273,1.0249575918204206,1.595991975816234,0.45392320782460727,1.3104747838183273,0.8108196978219906,0.6680611018230372,1.1677161878193738,0.6680611018230372,1.2390954858188505,1.0963368898198973,0.1684060158267006,1.0249575918204206,0.3825439098251306,2.0956470618125707,1.4532333798172805,1.381854081817804,0.8821989958214672,0.8108196978219906,1.0249575918204206,1.2390954858188505,1.0249575918204206,1.0963368898198973,2.167026359812047,0.8108196978219906,1.7387505718151872,1.8815091678141405,0.23978531382617724,1.4532333798172805,1.595991975816234,1.381854081817804,0.6680611018230372,1.0249575918204206,1.0249575918204206,0.5253025058240839,1.4532333798172805,1.810129869814664,0.8108196978219906,0.6680611018230372,1.0963368898198973,1.4532333798172805,1.0963368898198973,0.8108196978219906,1.0249575918204206,1.0249575918204206,1.7387505718151872,1.0963368898198973,0.8108196978219906,0.3825439098251306,1.0249575918204206,0.7394403998225139,1.1677161878193738,1.5246126778167572,1.4532333798172805,1.4532333798172805,1.2390954858188505,1.1677161878193738,1.1677161878193738,0.8821989958214672,0.8821989958214672,1.0963368898198973,1.0963368898198973,1.0963368898198973,1.9528884658136172,0.23978531382617724,1.1677161878193738,1.6673712738157105,0.8821989958214672,1.0249575918204206,1.4532333798172805,0.8821989958214672,2.167026359812047,1.0963368898198973,1.595991975816234,0.3111646118256539,1.0249575918204206,2.167026359812047,1.0249575918204206,0.5253025058240839,1.0249575918204206,1.0249575918204206,2.167026359812047,1.8815091678141405,1.2390954858188505,0.8108196978219906,1.5246126778167572,0.8821989958214672,0.23978531382617724,0.5253025058240839,1.2390954858188505,2.167026359812047,2.167026359812047,1.0249575918204206,2.167026359812047,1.810129869814664,0.5966818038235606,1.0963368898198973,1.2390954858188505,0.3825439098251306,0.3825439098251306,1.1677161878193738,0.8108196978219906,2.0956470618125707,1.1677161878193738],\"z\":[1.3385668411014502,1.6829689345931773,0.6497626541179957,1.6140885158948317,1.2008060037047592,0.9252843289113775,0.7186430728163412,0.994164747609723,1.3385668411014502,0.9252843289113775,0.44312139802295947,1.2696864224031046,1.2008060037047592,0.8564039102130321,0.9252843289113775,1.3385668411014502,0.9252843289113775,1.6140885158948317,0.9252843289113775,1.4074472597997956,1.476327678498141,2.1651318654815954,2.027371028084904,2.1651318654815954,0.37424097932461403,0.9252843289113775,0.7186430728163412,1.4074472597997956,1.6140885158948317,1.6829689345931773,0.3053605606262686,1.2008060037047592,0.37424097932461403,0.9252843289113775,0.09871930453123232,1.0630451663080684,0.6497626541179957,0.44312139802295947,1.6829689345931773,1.3385668411014502,1.2696864224031046,0.37424097932461403,1.1319255850064138,1.5452080971964863,2.1651318654815954,0.6497626541179957,0.8564039102130321,1.2696864224031046,2.1651318654815954,1.2696864224031046,0.7186430728163412,1.1319255850064138,0.5120018167213048,1.2008060037047592,0.5120018167213048,0.5120018167213048,0.7186430728163412,0.8564039102130321,0.44312139802295947,1.3385668411014502,0.3053605606262686,0.44312139802295947,1.7518493532915227,0.994164747609723,0.6497626541179957,1.0630451663080684,0.5808822354196503,0.7875234915146866,0.994164747609723,0.16759972322957775,0.37424097932461403,0.994164747609723,0.23648014192792316,0.5808822354196503,0.6497626541179957,1.476327678498141,1.820729771989868,0.5120018167213048,0.3053605606262686,1.6829689345931773,0.7875234915146866,1.0630451663080684,0.9252843289113775,1.3385668411014502,0.9252843289113775,0.5120018167213048,0.5808822354196503,0.7875234915146866,0.44312139802295947,0.8564039102130321,0.8564039102130321,0.994164747609723,0.8564039102130321,1.5452080971964863,0.6497626541179957,1.0630451663080684,0.7186430728163412,0.7875234915146866,1.7518493532915227,0.5808822354196503,0.8564039102130321,1.820729771989868,1.820729771989868,0.5120018167213048,1.4074472597997956,0.6497626541179957,1.1319255850064138,0.16759972322957775,1.8896101906882135,0.9252843289113775,2.1651318654815954,0.5808822354196503,0.994164747609723,1.820729771989868,0.16759972322957775,1.820729771989868,2.1651318654815954,0.5808822354196503,1.1319255850064138,0.6497626541179957,1.6829689345931773,1.2008060037047592,0.9252843289113775,0.7875234915146866,0.5120018167213048,0.3053605606262686,0.7875234915146866,1.1319255850064138,1.958490609386559,1.4074472597997956,2.1651318654815954,1.5452080971964863,1.5452080971964863,1.1319255850064138,0.5120018167213048,1.476327678498141,1.0630451663080684,1.5452080971964863,0.994164747609723,0.9252843289113775,1.476327678498141,1.476327678498141,0.9252843289113775,1.6140885158948317,1.6140885158948317,0.7875234915146866,0.5808822354196503,1.2696864224031046,1.7518493532915227,1.1319255850064138,1.0630451663080684,1.0630451663080684,1.7518493532915227,0.994164747609723,1.2008060037047592,0.7875234915146866,0.7186430728163412,1.4074472597997956,0.7875234915146866,1.958490609386559,1.3385668411014502,1.6140885158948317,2.1651318654815954,1.6140885158948317,1.4074472597997956,1.8896101906882135,0.7875234915146866,2.09625144678325,0.7875234915146866,1.476327678498141,0.9252843289113775,1.5452080971964863,1.6829689345931773,0.994164747609723,1.0630451663080684,1.2008060037047592,2.09625144678325,1.1319255850064138,0.7875234915146866,1.3385668411014502,0.37424097932461403,1.476327678498141,0.7186430728163412,0.7875234915146866,2.027371028084904,0.7186430728163412,1.1319255850064138,1.2696864224031046,0.5808822354196503,1.0630451663080684,0.6497626541179957,2.1651318654815954,0.994164747609723,1.2008060037047592,1.476327678498141,0.9252843289113775,1.2696864224031046,0.7186430728163412,1.476327678498141,1.1319255850064138,2.09625144678325,1.0630451663080684,1.2696864224031046,2.09625144678325,0.7875234915146866,1.3385668411014502,1.0630451663080684,1.7518493532915227,1.0630451663080684,0.9252843289113775,1.2008060037047592,0.44312139802295947,1.1319255850064138,1.6140885158948317,1.2008060037047592,0.9252843289113775,0.9252843289113775,1.0630451663080684,0.9252843289113775,0.7186430728163412,0.5808822354196503,0.8564039102130321,1.820729771989868,1.2696864224031046,0.37424097932461403,0.02983888583288688,0.5120018167213048,0.994164747609723,1.2696864224031046,1.3385668411014502,1.6140885158948317,1.6829689345931773,0.9252843289113775,0.8564039102130321,1.4074472597997956,1.4074472597997956,0.7186430728163412,1.0630451663080684,1.1319255850064138,1.6829689345931773,1.8896101906882135,0.23648014192792316,1.2696864224031046,1.5452080971964863,1.3385668411014502,0.6497626541179957,0.9252843289113775,1.0630451663080684,1.820729771989868,1.5452080971964863,1.1319255850064138,0.44312139802295947,1.4074472597997956,2.1651318654815954,1.0630451663080684,0.5808822354196503,1.5452080971964863,0.9252843289113775,2.1651318654815954,1.5452080971964863,1.476327678498141,1.1319255850064138,1.8896101906882135,0.7875234915146866,0.16759972322957775,0.994164747609723,0.8564039102130321,2.1651318654815954,2.1651318654815954,0.7875234915146866,2.1651318654815954,1.7518493532915227,0.6497626541179957,1.2008060037047592,1.5452080971964863,0.9252843289113775,0.5120018167213048,0.994164747609723,0.44312139802295947,1.820729771989868,1.2008060037047592],\"type\":\"scatter3d\"},{\"hovertemplate\":\"cluster description=Kurang<br>math score=%{x}<br>reading score=%{y}<br>writing score=%{z}<extra></extra>\",\"legendgroup\":\"Kurang\",\"marker\":{\"color\":\"#00cc96\",\"symbol\":\"circle\"},\"mode\":\"markers\",\"name\":\"Kurang\",\"scene\":\"scene\",\"showlegend\":true,\"x\":[-1.3626836459628988,-1.8487238778081492,-1.9875925154782208,-0.5989061387775053,-1.8487238778081492,-1.1543806894577915,-1.4321179647979345,-0.8766434141176485,-1.5709866024680061,0.1648713684078881,-1.8487238778081492,-1.1543806894577915,-0.6683404576125411,-0.8072090952826126,-0.9460777329526842,-1.1543806894577915,-0.11286590693225497,-0.9460777329526842,-0.9460777329526842,-2.3347641096533995,-1.01551205178772,-0.5989061387775053,-1.9181581966431849,-0.3211688634373623,-0.5294718199424696,-1.5015522836329704,-0.39060318227239804,-1.9181581966431849,-1.7792895589731135,-0.39060318227239804,-1.2238150082928272,-1.5709866024680061,-1.3626836459628988,-1.2238150082928272,-1.1543806894577915,-1.7098552401380778,-2.751370022663614,-1.6404209213030418,-0.4600375011074338,-0.3211688634373623,-0.8766434141176485,-1.0849463706227558,-1.0849463706227558,-0.2517345446023265,-1.0849463706227558,-0.9460777329526842,-0.5989061387775053,-1.0849463706227558,-1.7098552401380778,-0.6683404576125411,-0.8766434141176485,-0.4600375011074338,-1.2238150082928272,-1.01551205178772,-0.9460777329526842,-1.6404209213030418,-1.4321179647979345,-1.4321179647979345,-1.1543806894577915,-1.5015522836329704,-1.2932493271278631,-0.39060318227239804,-0.8072090952826126,-1.5015522836329704,-0.5294718199424696,-1.7098552401380778,-0.4600375011074338,-2.2653297908183636,-0.39060318227239804,-1.5015522836329704,-0.6683404576125411,-1.4321179647979345,-0.8766434141176485,-0.7377747764475769,-0.5294718199424696,-1.3626836459628988,-0.8766434141176485,-1.5709866024680061,-0.5294718199424696,-0.5989061387775053,-1.3626836459628988,-0.9460777329526842,-1.5015522836329704,-2.0570268343132567,-0.2517345446023265,-1.4321179647979345,-1.8487238778081492,-0.7377747764475769,-1.0849463706227558,-1.2238150082928272,-1.6404209213030418,-1.7792895589731135,-1.7792895589731135,-1.3626836459628988,-0.3211688634373623,-1.2238150082928272,-2.195895471983328,-0.5989061387775053,-0.3211688634373623,-0.043431588097219205,-1.4321179647979345,-1.7098552401380778,-0.5989061387775053,-1.01551205178772,-2.751370022663614,-0.5294718199424696,-1.2238150082928272,0.1648713684078881,-1.5709866024680061,-1.4321179647979345,-1.9875925154782208,-1.9875925154782208,-0.6683404576125411,-1.2932493271278631,-1.1543806894577915,-0.4600375011074338,-0.5294718199424696,-0.9460777329526842,-1.2238150082928272,-0.8766434141176485,-1.01551205178772,-0.6683404576125411,-0.6683404576125411,-1.3626836459628988,-1.7792895589731135,-0.11286590693225497,-0.39060318227239804,-1.3626836459628988,-1.1543806894577915,0.23430568724292386,-1.3626836459628988,-0.11286590693225497,-0.9460777329526842,-2.0570268343132567,-0.9460777329526842,-0.9460777329526842,-0.8766434141176485,-1.01551205178772,-0.5294718199424696,-1.2238150082928272,-0.39060318227239804,-0.18230022576729074,-0.8766434141176485,-0.2517345446023265,-1.8487238778081492,-0.8072090952826126,-0.18230022576729074,-0.3211688634373623,-0.8766434141176485,0.30374000607795965,-0.8766434141176485,-0.9460777329526842,-0.7377747764475769,-2.126461153148292,-2.612501384993543,-1.3626836459628988,-1.0849463706227558,-1.0849463706227558,-1.8487238778081492,-0.9460777329526842,-2.4041984284884355,-1.2932493271278631,-1.2932493271278631,-0.2517345446023265,-0.9460777329526842,-1.1543806894577915,-1.8487238778081492,-0.39060318227239804,-1.2932493271278631,-1.5709866024680061,-1.2932493271278631,-0.5989061387775053,-0.9460777329526842,-0.8766434141176485,-2.612501384993543,-0.4600375011074338,-1.8487238778081492,-2.0570268343132567,-2.195895471983328,-0.5989061387775053,-0.39060318227239804,-1.2238150082928272,-1.5709866024680061,-1.7792895589731135,-1.1543806894577915,-1.0849463706227558,-1.6404209213030418,-1.1543806894577915,-1.01551205178772,-1.1543806894577915,-0.3211688634373623,-2.612501384993543,-0.9460777329526842,-1.2238150082928272,-1.2238150082928272,-1.4321179647979345,-0.043431588097219205,-1.7098552401380778,-0.8072090952826126,-1.1543806894577915,-1.3626836459628988,0.09543704957285233,-0.9460777329526842,-0.8072090952826126,-0.8072090952826126,-0.9460777329526842,-0.39060318227239804,-2.0570268343132567,-0.8072090952826126,-1.1543806894577915,-0.5989061387775053,-0.8072090952826126,-1.01551205178772,-1.2932493271278631,-0.5989061387775053,-1.01551205178772,-1.2238150082928272,-2.195895471983328,-1.4321179647979345,-1.01551205178772,-2.4041984284884355,-1.01551205178772,-1.2932493271278631,-1.7098552401380778,-1.01551205178772,-1.7792895589731135,-0.5294718199424696,-1.0849463706227558,-1.5015522836329704,-1.5015522836329704,-1.2238150082928272,-1.2932493271278631,0.09543704957285233,-0.39060318227239804,-0.5989061387775053,-0.5989061387775053,-1.9181581966431849,-0.18230022576729074,-1.8487238778081492,-0.18230022576729074,-1.01551205178772,-0.9460777329526842,-1.9181581966431849,-0.5294718199424696,-0.39060318227239804,-1.2238150082928272,-0.5294718199424696,-1.6404209213030418,-0.6683404576125411,-0.8072090952826126,-1.0849463706227558,-1.5709866024680061,-2.4041984284884355,-2.126461153148292,-2.2653297908183636,-0.6683404576125411,-1.1543806894577915,-1.01551205178772,-1.3626836459628988,-1.4321179647979345,-1.5709866024680061,-2.195895471983328,-0.18230022576729074,-1.4321179647979345,-1.2932493271278631,0.026002730737816563,-0.6683404576125411,-0.8766434141176485,-1.2238150082928272,-1.2238150082928272,-0.5989061387775053,-1.5015522836329704,-0.7377747764475769,-1.2932493271278631,-0.9460777329526842,-1.2238150082928272,-0.8072090952826126,-0.6683404576125411,-1.8487238778081492,-1.5709866024680061,-0.3211688634373623],\"y\":[-0.9022834541654494,-1.9015936261581228,-0.6881455601670194,-1.1164213481638794,-1.2591799441628326,-1.1878006461633561,-1.9729729241575993,-0.8309041561659728,-1.1164213481638794,-1.1164213481638794,-1.9729729241575993,-0.40262836816911274,-0.973662752164926,-0.6167662621675427,-0.8309041561659728,-0.973662752164926,-1.1164213481638794,-1.0450420501644027,-1.830214328158646,-2.0443522221570762,-1.0450420501644027,-0.7595248581664961,-2.1871108181560293,-0.6167662621675427,-0.8309041561659728,-2.3298694141549827,-0.8309041561659728,-0.40262836816911274,-1.3305592421623094,-0.9022834541654494,-1.4733178381612628,-2.0443522221570762,-1.4733178381612628,-1.7588350301591693,-1.616076434160216,-2.1871108181560293,-2.5440073081534127,-1.7588350301591693,-1.830214328158646,-1.0450420501644027,-1.1878006461633561,-0.8309041561659728,-0.4740076661685894,-0.9022834541654494,-1.4733178381612628,-2.3298694141549827,-1.0450420501644027,-1.1164213481638794,-1.0450420501644027,-1.9015936261581228,-1.4733178381612628,-0.6881455601670194,-1.1878006461633561,-1.1878006461633561,-1.3305592421623094,-1.3305592421623094,-1.1164213481638794,-0.40262836816911274,-1.401938540161786,-1.2591799441628326,-1.2591799441628326,-1.0450420501644027,-0.973662752164926,-1.1878006461633561,-2.0443522221570762,-0.5453869641680661,-1.3305592421623094,-1.9729729241575993,-0.973662752164926,-0.973662752164926,-1.401938540161786,-1.9015936261581228,-1.2591799441628326,-1.2591799441628326,-1.3305592421623094,-1.4733178381612628,-1.2591799441628326,-1.401938540161786,-1.9729729241575993,-1.4733178381612628,-1.1878006461633561,-1.2591799441628326,-1.5446971361607393,-1.6874557321596928,-0.6881455601670194,-2.0443522221570762,-1.6874557321596928,-1.1164213481638794,-1.2591799441628326,-0.9022834541654494,-1.1878006461633561,-1.6874557321596928,-1.0450420501644027,-2.3298694141549827,-0.973662752164926,-1.3305592421623094,-1.0450420501644027,-0.6167662621675427,-0.6167662621675427,-0.9022834541654494,-0.8309041561659728,-0.25986977217015944,-0.5453869641680661,-0.8309041561659728,-2.5440073081534127,-0.6881455601670194,-0.8309041561659728,-0.8309041561659728,-0.40262836816911274,-1.9015936261581228,-1.4733178381612628,-1.9015936261581228,-1.1164213481638794,-1.7588350301591693,-0.18849047417068274,-0.7595248581664961,-1.1164213481638794,-1.9015936261581228,-0.33124907016963606,-0.7595248581664961,-0.9022834541654494,-0.973662752164926,-0.8309041561659728,-0.8309041561659728,-2.1871108181560293,-0.7595248581664961,-0.973662752164926,-0.7595248581664961,-1.5446971361607393,-0.973662752164926,-1.6874557321596928,-0.8309041561659728,-0.6167662621675427,-0.973662752164926,-1.1164213481638794,-0.8309041561659728,-1.1164213481638794,-0.7595248581664961,-1.2591799441628326,-1.2591799441628326,-1.616076434160216,-1.1878006461633561,-1.5446971361607393,-0.6167662621675427,-0.7595248581664961,-0.7595248581664961,-1.401938540161786,-1.4733178381612628,-0.6167662621675427,-1.4733178381612628,-0.7595248581664961,-1.2591799441628326,-0.6167662621675427,-1.1878006461633561,-2.0443522221570762,-1.1164213481638794,-0.6881455601670194,-0.25986977217015944,-1.5446971361607393,-1.7588350301591693,-2.1871108181560293,-1.3305592421623094,-1.9015936261581228,-1.5446971361607393,-0.5453869641680661,-0.25986977217015944,-1.0450420501644027,-1.3305592421623094,-0.973662752164926,-0.4740076661685894,-0.25986977217015944,-0.9022834541654494,-1.1164213481638794,-0.6881455601670194,-2.900903798150796,-0.9022834541654494,-0.8309041561659728,-1.7588350301591693,-0.6167662621675427,-1.3305592421623094,-1.5446971361607393,-0.9022834541654494,-1.3305592421623094,-1.2591799441628326,-1.1878006461633561,-0.973662752164926,-0.6881455601670194,-0.6881455601670194,-0.9022834541654494,-0.40262836816911274,-1.0450420501644027,-2.1157315201565527,-0.8309041561659728,-1.1878006461633561,-0.4740076661685894,-2.5440073081534127,-0.7595248581664961,-0.6167662621675427,-0.7595248581664961,-1.5446971361607393,-1.9015936261581228,-1.3305592421623094,-2.1871108181560293,-1.6874557321596928,-1.616076434160216,-0.8309041561659728,-0.6881455601670194,-0.9022834541654494,-1.0450420501644027,-0.6881455601670194,-1.0450420501644027,-0.8309041561659728,-0.7595248581664961,-0.8309041561659728,-0.6881455601670194,-1.5446971361607393,-0.8309041561659728,-1.830214328158646,-0.973662752164926,-0.7595248581664961,-1.3305592421623094,-0.33124907016963606,-0.5453869641680661,-1.2591799441628326,-1.0450420501644027,-1.7588350301591693,-1.1164213481638794,-2.7581452021518427,-1.616076434160216,-0.7595248581664961,-1.2591799441628326,-0.8309041561659728,-1.1164213481638794,-0.6881455601670194,-1.401938540161786,-0.9022834541654494,-1.2591799441628326,-0.8309041561659728,-0.33124907016963606,-1.1164213481638794,-1.4733178381612628,-0.5453869641680661,-1.9729729241575993,-1.1878006461633561,-1.9729729241575993,-1.3305592421623094,-0.8309041561659728,-0.5453869641680661,-0.6167662621675427,-1.6874557321596928,-1.3305592421623094,-1.3305592421623094,-2.5440073081534127,-2.900903798150796,-1.5446971361607393,-1.5446971361607393,-1.9729729241575993,-0.6167662621675427,-0.5453869641680661,-0.6167662621675427,-0.6167662621675427,-1.1878006461633561,-0.973662752164926,-1.9015936261581228,-0.973662752164926,-0.9022834541654494,-0.8309041561659728,-0.6167662621675427,-0.8309041561659728,-1.401938540161786,-1.2591799441628326,-0.4740076661685894,-0.8309041561659728,-1.1164213481638794,-1.401938540161786,-0.33124907016963606,-2.0443522221570762,-1.3305592421623094,-0.7595248581664961,-1.7588350301591693,-1.0450420501644027],\"z\":[-1.692171581625749,-2.036573675117476,-1.2788890694356763,-1.1411282320389855,-1.7610520003240944,-0.7278457198489129,-1.554410744229058,-0.5212044637538765,-1.0722478133406401,-0.9344869759439491,-2.1054540938158217,-0.6589653011505674,-0.7967261385472583,-1.0033673946422945,-0.24568278896049484,-1.0033673946422945,-0.7967261385472583,-1.4166499068323672,-1.8299324190224397,-1.7610520003240944,-1.3477694881340216,-0.7278457198489129,-2.3809757686092032,-0.9344869759439491,-0.6589653011505674,-2.174334512514167,-0.8656065572456038,-0.7967261385472583,-1.4166499068323672,-0.8656065572456038,-1.8988128377207851,-2.1054540938158217,-1.2788890694356763,-1.6232911629274034,-1.0033673946422945,-2.3809757686092032,-2.2432149312125125,-1.2788890694356763,-1.4855303255307126,-1.3477694881340216,-1.4855303255307126,-1.0033673946422945,-0.5212044637538765,-0.8656065572456038,-1.2100086507373309,-1.9676932564191307,-1.4166499068323672,-1.8988128377207851,-1.0033673946422945,-1.4855303255307126,-1.4855303255307126,-0.590084882452222,-1.1411282320389855,-1.3477694881340216,-1.2100086507373309,-1.0033673946422945,-0.7278457198489129,-0.17680237026214943,-1.4855303255307126,-1.3477694881340216,-1.6232911629274034,-1.1411282320389855,-1.2100086507373309,-0.9344869759439491,-1.8299324190224397,-0.590084882452222,-0.8656065572456038,-2.036573675117476,-0.8656065572456038,-1.0033673946422945,-1.0033673946422945,-1.8299324190224397,-1.2100086507373309,-0.9344869759439491,-1.7610520003240944,-1.3477694881340216,-1.1411282320389855,-1.2100086507373309,-1.8988128377207851,-1.8299324190224397,-0.7278457198489129,-1.8299324190224397,-1.554410744229058,-1.554410744229058,-0.7967261385472583,-1.7610520003240944,-1.2788890694356763,-1.1411282320389855,-1.692171581625749,-1.1411282320389855,-1.0722478133406401,-1.7610520003240944,-1.2100086507373309,-2.312095349910858,-1.0722478133406401,-1.7610520003240944,-0.590084882452222,-1.1411282320389855,-0.7967261385472583,-1.1411282320389855,-0.7967261385472583,0.02983888583288688,-0.6589653011505674,-0.7278457198489129,-2.518736606005894,-0.7278457198489129,-0.590084882452222,-1.0722478133406401,-0.7278457198489129,-1.8988128377207851,-1.6232911629274034,-1.7610520003240944,-0.8656065572456038,-1.8988128377207851,-0.3834436263571857,-1.0033673946422945,-0.10792195156380398,-1.7610520003240944,-0.9344869759439491,-0.45232404505553114,-0.8656065572456038,-1.0033673946422945,-0.31456320765884027,-0.10792195156380398,-2.3809757686092032,-1.0722478133406401,-0.9344869759439491,-1.2788890694356763,-1.0722478133406401,-1.2100086507373309,-1.8299324190224397,-1.3477694881340216,-0.45232404505553114,-1.4855303255307126,-1.4166499068323672,-0.9344869759439491,-1.6232911629274034,-0.8656065572456038,-1.554410744229058,-1.0033673946422945,-0.8656065572456038,-0.7967261385472583,-1.1411282320389855,-1.0033673946422945,-1.0033673946422945,-1.0033673946422945,-1.7610520003240944,-1.1411282320389855,-0.45232404505553114,-1.1411282320389855,-1.2788890694356763,-1.3477694881340216,-0.590084882452222,-1.7610520003240944,-1.4855303255307126,-1.0722478133406401,-0.7278457198489129,-0.45232404505553114,-1.2788890694356763,-1.9676932564191307,-2.4498561873075486,-1.554410744229058,-1.6232911629274034,-1.4855303255307126,-0.8656065572456038,-0.31456320765884027,-1.0722478133406401,-1.1411282320389855,-0.7278457198489129,-0.45232404505553114,-0.24568278896049484,-1.0033673946422945,-1.4166499068323672,-0.3834436263571857,-2.6564974434025848,-1.2100086507373309,-1.0033673946422945,-2.1054540938158217,-1.0033673946422945,-1.1411282320389855,-1.554410744229058,-1.554410744229058,-0.9344869759439491,-1.2100086507373309,-0.9344869759439491,-1.0722478133406401,-0.7278457198489129,-0.590084882452222,-1.2788890694356763,-0.17680237026214943,-1.0033673946422945,-1.692171581625749,-1.692171581625749,-1.0722478133406401,-0.8656065572456038,-2.2432149312125125,-1.1411282320389855,-0.7278457198489129,-0.6589653011505674,-1.8299324190224397,-1.8988128377207851,-0.7967261385472583,-2.174334512514167,-1.7610520003240944,-1.692171581625749,-0.7967261385472583,-0.9344869759439491,-0.8656065572456038,-1.4855303255307126,-0.6589653011505674,-1.0722478133406401,-1.1411282320389855,-0.24568278896049484,-1.0033673946422945,-0.7967261385472583,-1.3477694881340216,-0.9344869759439491,-1.7610520003240944,-0.7967261385472583,-0.45232404505553114,-1.692171581625749,-0.5212044637538765,-0.590084882452222,-1.2100086507373309,-0.7967261385472583,-1.9676932564191307,-1.2100086507373309,-2.2432149312125125,-1.3477694881340216,-0.31456320765884027,-1.2100086507373309,-1.1411282320389855,-1.0722478133406401,-0.7967261385472583,-1.6232911629274034,-1.0722478133406401,-1.554410744229058,-1.2100086507373309,-0.31456320765884027,-1.2788890694356763,-1.554410744229058,-1.0722478133406401,-2.1054540938158217,-1.1411282320389855,-1.8988128377207851,-1.2100086507373309,-1.4855303255307126,-0.5212044637538765,-1.0033673946422945,-1.692171581625749,-1.0033673946422945,-1.4166499068323672,-2.1054540938158217,-2.8631386994976213,-1.8988128377207851,-1.2100086507373309,-1.4166499068323672,-0.17680237026214943,-0.17680237026214943,-0.9344869759439491,-1.1411282320389855,-1.554410744229058,-1.1411282320389855,-1.692171581625749,-1.2100086507373309,-1.0722478133406401,-0.7967261385472583,-0.7278457198489129,-0.590084882452222,-1.1411282320389855,-1.0033673946422945,-0.6589653011505674,-0.31456320765884027,-1.0722478133406401,-0.590084882452222,-0.5212044637538765,-1.4166499068323672,-1.0033673946422945,-1.2100086507373309,-1.6232911629274034,-0.9344869759439491],\"type\":\"scatter3d\"}],                        {\"template\":{\"data\":{\"bar\":[{\"error_x\":{\"color\":\"#2a3f5f\"},\"error_y\":{\"color\":\"#2a3f5f\"},\"marker\":{\"line\":{\"color\":\"#E5ECF6\",\"width\":0.5},\"pattern\":{\"fillmode\":\"overlay\",\"size\":10,\"solidity\":0.2}},\"type\":\"bar\"}],\"barpolar\":[{\"marker\":{\"line\":{\"color\":\"#E5ECF6\",\"width\":0.5},\"pattern\":{\"fillmode\":\"overlay\",\"size\":10,\"solidity\":0.2}},\"type\":\"barpolar\"}],\"carpet\":[{\"aaxis\":{\"endlinecolor\":\"#2a3f5f\",\"gridcolor\":\"white\",\"linecolor\":\"white\",\"minorgridcolor\":\"white\",\"startlinecolor\":\"#2a3f5f\"},\"baxis\":{\"endlinecolor\":\"#2a3f5f\",\"gridcolor\":\"white\",\"linecolor\":\"white\",\"minorgridcolor\":\"white\",\"startlinecolor\":\"#2a3f5f\"},\"type\":\"carpet\"}],\"choropleth\":[{\"colorbar\":{\"outlinewidth\":0,\"ticks\":\"\"},\"type\":\"choropleth\"}],\"contour\":[{\"colorbar\":{\"outlinewidth\":0,\"ticks\":\"\"},\"colorscale\":[[0.0,\"#0d0887\"],[0.1111111111111111,\"#46039f\"],[0.2222222222222222,\"#7201a8\"],[0.3333333333333333,\"#9c179e\"],[0.4444444444444444,\"#bd3786\"],[0.5555555555555556,\"#d8576b\"],[0.6666666666666666,\"#ed7953\"],[0.7777777777777778,\"#fb9f3a\"],[0.8888888888888888,\"#fdca26\"],[1.0,\"#f0f921\"]],\"type\":\"contour\"}],\"contourcarpet\":[{\"colorbar\":{\"outlinewidth\":0,\"ticks\":\"\"},\"type\":\"contourcarpet\"}],\"heatmap\":[{\"colorbar\":{\"outlinewidth\":0,\"ticks\":\"\"},\"colorscale\":[[0.0,\"#0d0887\"],[0.1111111111111111,\"#46039f\"],[0.2222222222222222,\"#7201a8\"],[0.3333333333333333,\"#9c179e\"],[0.4444444444444444,\"#bd3786\"],[0.5555555555555556,\"#d8576b\"],[0.6666666666666666,\"#ed7953\"],[0.7777777777777778,\"#fb9f3a\"],[0.8888888888888888,\"#fdca26\"],[1.0,\"#f0f921\"]],\"type\":\"heatmap\"}],\"heatmapgl\":[{\"colorbar\":{\"outlinewidth\":0,\"ticks\":\"\"},\"colorscale\":[[0.0,\"#0d0887\"],[0.1111111111111111,\"#46039f\"],[0.2222222222222222,\"#7201a8\"],[0.3333333333333333,\"#9c179e\"],[0.4444444444444444,\"#bd3786\"],[0.5555555555555556,\"#d8576b\"],[0.6666666666666666,\"#ed7953\"],[0.7777777777777778,\"#fb9f3a\"],[0.8888888888888888,\"#fdca26\"],[1.0,\"#f0f921\"]],\"type\":\"heatmapgl\"}],\"histogram\":[{\"marker\":{\"pattern\":{\"fillmode\":\"overlay\",\"size\":10,\"solidity\":0.2}},\"type\":\"histogram\"}],\"histogram2d\":[{\"colorbar\":{\"outlinewidth\":0,\"ticks\":\"\"},\"colorscale\":[[0.0,\"#0d0887\"],[0.1111111111111111,\"#46039f\"],[0.2222222222222222,\"#7201a8\"],[0.3333333333333333,\"#9c179e\"],[0.4444444444444444,\"#bd3786\"],[0.5555555555555556,\"#d8576b\"],[0.6666666666666666,\"#ed7953\"],[0.7777777777777778,\"#fb9f3a\"],[0.8888888888888888,\"#fdca26\"],[1.0,\"#f0f921\"]],\"type\":\"histogram2d\"}],\"histogram2dcontour\":[{\"colorbar\":{\"outlinewidth\":0,\"ticks\":\"\"},\"colorscale\":[[0.0,\"#0d0887\"],[0.1111111111111111,\"#46039f\"],[0.2222222222222222,\"#7201a8\"],[0.3333333333333333,\"#9c179e\"],[0.4444444444444444,\"#bd3786\"],[0.5555555555555556,\"#d8576b\"],[0.6666666666666666,\"#ed7953\"],[0.7777777777777778,\"#fb9f3a\"],[0.8888888888888888,\"#fdca26\"],[1.0,\"#f0f921\"]],\"type\":\"histogram2dcontour\"}],\"mesh3d\":[{\"colorbar\":{\"outlinewidth\":0,\"ticks\":\"\"},\"type\":\"mesh3d\"}],\"parcoords\":[{\"line\":{\"colorbar\":{\"outlinewidth\":0,\"ticks\":\"\"}},\"type\":\"parcoords\"}],\"pie\":[{\"automargin\":true,\"type\":\"pie\"}],\"scatter\":[{\"marker\":{\"colorbar\":{\"outlinewidth\":0,\"ticks\":\"\"}},\"type\":\"scatter\"}],\"scatter3d\":[{\"line\":{\"colorbar\":{\"outlinewidth\":0,\"ticks\":\"\"}},\"marker\":{\"colorbar\":{\"outlinewidth\":0,\"ticks\":\"\"}},\"type\":\"scatter3d\"}],\"scattercarpet\":[{\"marker\":{\"colorbar\":{\"outlinewidth\":0,\"ticks\":\"\"}},\"type\":\"scattercarpet\"}],\"scattergeo\":[{\"marker\":{\"colorbar\":{\"outlinewidth\":0,\"ticks\":\"\"}},\"type\":\"scattergeo\"}],\"scattergl\":[{\"marker\":{\"colorbar\":{\"outlinewidth\":0,\"ticks\":\"\"}},\"type\":\"scattergl\"}],\"scattermapbox\":[{\"marker\":{\"colorbar\":{\"outlinewidth\":0,\"ticks\":\"\"}},\"type\":\"scattermapbox\"}],\"scatterpolar\":[{\"marker\":{\"colorbar\":{\"outlinewidth\":0,\"ticks\":\"\"}},\"type\":\"scatterpolar\"}],\"scatterpolargl\":[{\"marker\":{\"colorbar\":{\"outlinewidth\":0,\"ticks\":\"\"}},\"type\":\"scatterpolargl\"}],\"scatterternary\":[{\"marker\":{\"colorbar\":{\"outlinewidth\":0,\"ticks\":\"\"}},\"type\":\"scatterternary\"}],\"surface\":[{\"colorbar\":{\"outlinewidth\":0,\"ticks\":\"\"},\"colorscale\":[[0.0,\"#0d0887\"],[0.1111111111111111,\"#46039f\"],[0.2222222222222222,\"#7201a8\"],[0.3333333333333333,\"#9c179e\"],[0.4444444444444444,\"#bd3786\"],[0.5555555555555556,\"#d8576b\"],[0.6666666666666666,\"#ed7953\"],[0.7777777777777778,\"#fb9f3a\"],[0.8888888888888888,\"#fdca26\"],[1.0,\"#f0f921\"]],\"type\":\"surface\"}],\"table\":[{\"cells\":{\"fill\":{\"color\":\"#EBF0F8\"},\"line\":{\"color\":\"white\"}},\"header\":{\"fill\":{\"color\":\"#C8D4E3\"},\"line\":{\"color\":\"white\"}},\"type\":\"table\"}]},\"layout\":{\"annotationdefaults\":{\"arrowcolor\":\"#2a3f5f\",\"arrowhead\":0,\"arrowwidth\":1},\"autotypenumbers\":\"strict\",\"coloraxis\":{\"colorbar\":{\"outlinewidth\":0,\"ticks\":\"\"}},\"colorscale\":{\"diverging\":[[0,\"#8e0152\"],[0.1,\"#c51b7d\"],[0.2,\"#de77ae\"],[0.3,\"#f1b6da\"],[0.4,\"#fde0ef\"],[0.5,\"#f7f7f7\"],[0.6,\"#e6f5d0\"],[0.7,\"#b8e186\"],[0.8,\"#7fbc41\"],[0.9,\"#4d9221\"],[1,\"#276419\"]],\"sequential\":[[0.0,\"#0d0887\"],[0.1111111111111111,\"#46039f\"],[0.2222222222222222,\"#7201a8\"],[0.3333333333333333,\"#9c179e\"],[0.4444444444444444,\"#bd3786\"],[0.5555555555555556,\"#d8576b\"],[0.6666666666666666,\"#ed7953\"],[0.7777777777777778,\"#fb9f3a\"],[0.8888888888888888,\"#fdca26\"],[1.0,\"#f0f921\"]],\"sequentialminus\":[[0.0,\"#0d0887\"],[0.1111111111111111,\"#46039f\"],[0.2222222222222222,\"#7201a8\"],[0.3333333333333333,\"#9c179e\"],[0.4444444444444444,\"#bd3786\"],[0.5555555555555556,\"#d8576b\"],[0.6666666666666666,\"#ed7953\"],[0.7777777777777778,\"#fb9f3a\"],[0.8888888888888888,\"#fdca26\"],[1.0,\"#f0f921\"]]},\"colorway\":[\"#636efa\",\"#EF553B\",\"#00cc96\",\"#ab63fa\",\"#FFA15A\",\"#19d3f3\",\"#FF6692\",\"#B6E880\",\"#FF97FF\",\"#FECB52\"],\"font\":{\"color\":\"#2a3f5f\"},\"geo\":{\"bgcolor\":\"white\",\"lakecolor\":\"white\",\"landcolor\":\"#E5ECF6\",\"showlakes\":true,\"showland\":true,\"subunitcolor\":\"white\"},\"hoverlabel\":{\"align\":\"left\"},\"hovermode\":\"closest\",\"mapbox\":{\"style\":\"light\"},\"paper_bgcolor\":\"white\",\"plot_bgcolor\":\"#E5ECF6\",\"polar\":{\"angularaxis\":{\"gridcolor\":\"white\",\"linecolor\":\"white\",\"ticks\":\"\"},\"bgcolor\":\"#E5ECF6\",\"radialaxis\":{\"gridcolor\":\"white\",\"linecolor\":\"white\",\"ticks\":\"\"}},\"scene\":{\"xaxis\":{\"backgroundcolor\":\"#E5ECF6\",\"gridcolor\":\"white\",\"gridwidth\":2,\"linecolor\":\"white\",\"showbackground\":true,\"ticks\":\"\",\"zerolinecolor\":\"white\"},\"yaxis\":{\"backgroundcolor\":\"#E5ECF6\",\"gridcolor\":\"white\",\"gridwidth\":2,\"linecolor\":\"white\",\"showbackground\":true,\"ticks\":\"\",\"zerolinecolor\":\"white\"},\"zaxis\":{\"backgroundcolor\":\"#E5ECF6\",\"gridcolor\":\"white\",\"gridwidth\":2,\"linecolor\":\"white\",\"showbackground\":true,\"ticks\":\"\",\"zerolinecolor\":\"white\"}},\"shapedefaults\":{\"line\":{\"color\":\"#2a3f5f\"}},\"ternary\":{\"aaxis\":{\"gridcolor\":\"white\",\"linecolor\":\"white\",\"ticks\":\"\"},\"baxis\":{\"gridcolor\":\"white\",\"linecolor\":\"white\",\"ticks\":\"\"},\"bgcolor\":\"#E5ECF6\",\"caxis\":{\"gridcolor\":\"white\",\"linecolor\":\"white\",\"ticks\":\"\"}},\"title\":{\"x\":0.05},\"xaxis\":{\"automargin\":true,\"gridcolor\":\"white\",\"linecolor\":\"white\",\"ticks\":\"\",\"title\":{\"standoff\":15},\"zerolinecolor\":\"white\",\"zerolinewidth\":2},\"yaxis\":{\"automargin\":true,\"gridcolor\":\"white\",\"linecolor\":\"white\",\"ticks\":\"\",\"title\":{\"standoff\":15},\"zerolinecolor\":\"white\",\"zerolinewidth\":2}}},\"scene\":{\"domain\":{\"x\":[0.0,1.0],\"y\":[0.0,1.0]},\"xaxis\":{\"title\":{\"text\":\"math score\"}},\"yaxis\":{\"title\":{\"text\":\"reading score\"}},\"zaxis\":{\"title\":{\"text\":\"writing score\"}}},\"legend\":{\"title\":{\"text\":\"cluster description\"},\"tracegroupgap\":0},\"margin\":{\"t\":60}},                        {\"responsive\": true}                    ).then(function(){\n",
       "                            \n",
       "var gd = document.getElementById('ed59ac9c-f6fc-4848-a8e1-9e5b39183cf8');\n",
       "var x = new MutationObserver(function (mutations, observer) {{\n",
       "        var display = window.getComputedStyle(gd).display;\n",
       "        if (!display || display === 'none') {{\n",
       "            console.log([gd, 'removed!']);\n",
       "            Plotly.purge(gd);\n",
       "            observer.disconnect();\n",
       "        }}\n",
       "}});\n",
       "\n",
       "// Listen for the removal of the full notebook cells\n",
       "var notebookContainer = gd.closest('#notebook-container');\n",
       "if (notebookContainer) {{\n",
       "    x.observe(notebookContainer, {childList: true});\n",
       "}}\n",
       "\n",
       "// Listen for the clearing of the current output cell\n",
       "var outputEl = gd.closest('.output');\n",
       "if (outputEl) {{\n",
       "    x.observe(outputEl, {childList: true});\n",
       "}}\n",
       "\n",
       "                        })                };                });            </script>        </div>"
      ]
     },
     "metadata": {},
     "output_type": "display_data"
    }
   ],
   "source": [
    "fig = px.scatter_3d(df_final, x = 'math score', \n",
    "                    y = 'reading score', \n",
    "                    z = 'writing score',\n",
    "                    color = 'cluster description')\n",
    "fig.show()"
   ]
  },
  {
   "cell_type": "markdown",
   "id": "01abfd93",
   "metadata": {
    "papermill": {
     "duration": 0.037927,
     "end_time": "2022-03-29T12:39:37.035713",
     "exception": false,
     "start_time": "2022-03-29T12:39:36.997786",
     "status": "completed"
    },
    "tags": []
   },
   "source": [
    "# Menyimpan Model\n",
    "selanjutnya saya akan menyimpal model dengan pickle, agar ketika ada data baru yang masuk kita tidak perlu lagi untuk training ulang."
   ]
  },
  {
   "cell_type": "code",
   "execution_count": 17,
   "id": "20bd14f5",
   "metadata": {
    "execution": {
     "iopub.execute_input": "2022-03-29T12:39:37.118324Z",
     "iopub.status.busy": "2022-03-29T12:39:37.117678Z",
     "iopub.status.idle": "2022-03-29T12:39:37.120540Z",
     "shell.execute_reply": "2022-03-29T12:39:37.120089Z",
     "shell.execute_reply.started": "2022-03-29T12:34:00.914766Z"
    },
    "papermill": {
     "duration": 0.046117,
     "end_time": "2022-03-29T12:39:37.120683",
     "exception": false,
     "start_time": "2022-03-29T12:39:37.074566",
     "status": "completed"
    },
    "tags": []
   },
   "outputs": [],
   "source": [
    "#Menyimpan Model\n",
    "import pickle\n",
    "pickle.dump(cluster_model, open('cluster.pkl', 'wb'))  "
   ]
  },
  {
   "cell_type": "markdown",
   "id": "325b1dc4",
   "metadata": {
    "papermill": {
     "duration": 0.037512,
     "end_time": "2022-03-29T12:39:37.196132",
     "exception": false,
     "start_time": "2022-03-29T12:39:37.158620",
     "status": "completed"
    },
    "tags": []
   },
   "source": [
    "# Memakai Model Yang Sudah Disimpan\n",
    "selanjutnya saya akan mencoba untuk menggunakan model yang sudah disimpan tadi (cluster.pkl), untuk itu saya akan membuat data baru dan membuat fungsi untuk preprocessing"
   ]
  },
  {
   "cell_type": "code",
   "execution_count": 18,
   "id": "222fd400",
   "metadata": {
    "execution": {
     "iopub.execute_input": "2022-03-29T12:39:37.280719Z",
     "iopub.status.busy": "2022-03-29T12:39:37.280073Z",
     "iopub.status.idle": "2022-03-29T12:39:37.294672Z",
     "shell.execute_reply": "2022-03-29T12:39:37.295105Z",
     "shell.execute_reply.started": "2022-03-29T12:34:00.923677Z"
    },
    "papermill": {
     "duration": 0.061323,
     "end_time": "2022-03-29T12:39:37.295272",
     "exception": false,
     "start_time": "2022-03-29T12:39:37.233949",
     "status": "completed"
    },
    "tags": []
   },
   "outputs": [
    {
     "name": "stdout",
     "output_type": "stream",
     "text": [
      "   gender  race/ethnicity  parental level of education  lunch  \\\n",
      "0       1               2                            3      1   \n",
      "\n",
      "   test preparation course  math score  reading score  writing score  \\\n",
      "0                        0    1.622171      -1.401229      -0.107867   \n",
      "\n",
      "   final score  \n",
      "0         69.0  \n"
     ]
    }
   ],
   "source": [
    "#Membuat data baru\n",
    "new_df = pd.DataFrame({'gender' : 'male', \n",
    "           'race/ethnicity' : 'group C', \n",
    "           'parental level of education' : \"master's degree\",\n",
    "           'lunch' : 'standard', \n",
    "           'test preparation course' : 'completed', \n",
    "           'math score' : [90], \n",
    "           'reading score' : [50], \n",
    "           'writing score' : [67]}) \n",
    "\n",
    "#Membuat Fungsi preprocessing\n",
    "def Preprocess(new_data): \n",
    "\n",
    "    # Membuat Kolom rata-rata (final score)\n",
    "    new_data['final score'] = new_data[['math score', 'reading score', 'writing score']].mean(axis=1)\n",
    "\n",
    "    # Normalisasi \n",
    "    new_data['math score'] = (new_data['math score'] - 66.6255060728745) / 14.409394002128439\n",
    "    new_data['reading score'] = (new_data['reading score'] - 69.64068825910931) / 14.016759556402102\n",
    "    new_data['writing score'] = (new_data['writing score'] - 68.56680161943319) / 14.525266777849469\n",
    "\n",
    "    # Encoding \n",
    "    gender_map = ({'female' : 0, \n",
    "                   'male' : 1})\n",
    "    race_map = ({'group A' : 0, \n",
    "                 'group B' : 1, \n",
    "                 'group C' : 2, \n",
    "                 'group D' : 3, \n",
    "                 'group E' : 4})\n",
    "    parent_education = ({\"associate's degree\" : 0, \n",
    "                         \"bachelor's degree\" : 1, \n",
    "                         'high school' : 2, \n",
    "                         \"master's degree\" : 3, \n",
    "                         'some college' : 4, \n",
    "                         'some high school' : 5})\n",
    "    lunch_map = ({'free/reduced' : 0, \n",
    "                  'standard' : 1}) \n",
    "    course_map = ({'completed' : 0, \n",
    "                   'none' : 1})\n",
    "    \n",
    "    kolom_kategorikal = ['gender', 'race/ethnicity', 'parental level of education', 'lunch', 'test preparation course']\n",
    "    mapping_ = [gender_map, race_map, parent_education, lunch_map, course_map]\n",
    "    for kolom, my_map in zip(kolom_kategorikal, mapping_):\n",
    "        new_data[kolom] = new_data[kolom].map(my_map)\n",
    "    \n",
    "    return new_data \n",
    "\n",
    "# Preprocessing new_df dengan fungsi yang sudah dibuat\n",
    "new_df = Preprocess(new_df) \n",
    "\n",
    "print(new_df.head())\n"
   ]
  },
  {
   "cell_type": "markdown",
   "id": "41a6c8b0",
   "metadata": {
    "papermill": {
     "duration": 0.038266,
     "end_time": "2022-03-29T12:39:37.371681",
     "exception": false,
     "start_time": "2022-03-29T12:39:37.333415",
     "status": "completed"
    },
    "tags": []
   },
   "source": [
    "Memanggil model(cluster.pkl)"
   ]
  },
  {
   "cell_type": "code",
   "execution_count": 19,
   "id": "3b917833",
   "metadata": {
    "execution": {
     "iopub.execute_input": "2022-03-29T12:39:37.451841Z",
     "iopub.status.busy": "2022-03-29T12:39:37.451114Z",
     "iopub.status.idle": "2022-03-29T12:39:37.454539Z",
     "shell.execute_reply": "2022-03-29T12:39:37.455033Z",
     "shell.execute_reply.started": "2022-03-29T12:34:00.957985Z"
    },
    "papermill": {
     "duration": 0.045212,
     "end_time": "2022-03-29T12:39:37.455206",
     "exception": false,
     "start_time": "2022-03-29T12:39:37.409994",
     "status": "completed"
    },
    "tags": []
   },
   "outputs": [],
   "source": [
    "#Memanggil model yang sudah dibuat\n",
    "kmeans_model = pickle.load(open('./cluster.pkl', 'rb')) "
   ]
  },
  {
   "cell_type": "markdown",
   "id": "e08c5ef3",
   "metadata": {
    "papermill": {
     "duration": 0.038956,
     "end_time": "2022-03-29T12:39:37.533184",
     "exception": false,
     "start_time": "2022-03-29T12:39:37.494228",
     "status": "completed"
    },
    "tags": []
   },
   "source": [
    "# Melakukan Prediksi"
   ]
  },
  {
   "cell_type": "code",
   "execution_count": 20,
   "id": "25e15312",
   "metadata": {
    "execution": {
     "iopub.execute_input": "2022-03-29T12:39:37.625868Z",
     "iopub.status.busy": "2022-03-29T12:39:37.623570Z",
     "iopub.status.idle": "2022-03-29T12:39:37.628148Z",
     "shell.execute_reply": "2022-03-29T12:39:37.626389Z",
     "shell.execute_reply.started": "2022-03-29T12:34:00.969101Z"
    },
    "papermill": {
     "duration": 0.056573,
     "end_time": "2022-03-29T12:39:37.628291",
     "exception": false,
     "start_time": "2022-03-29T12:39:37.571718",
     "status": "completed"
    },
    "tags": []
   },
   "outputs": [
    {
     "name": "stdout",
     "output_type": "stream",
     "text": [
      "Cluster [2], Peforma Cukup\n"
     ]
    }
   ],
   "source": [
    "#Lakuan prediksi \n",
    "cluster = kmeans_model.predict(new_df)\n",
    "\n",
    "if cluster == 0: \n",
    "    print(f'Cluster {cluster}, Peforma Baik')\n",
    "elif cluster == 1:\n",
    "    print(f'Cluster {cluster}, Peforma Kurang') \n",
    "elif cluster == 2: \n",
    "    print(f'Cluster {cluster}, Peforma Cukup') "
   ]
  },
  {
   "cell_type": "markdown",
   "id": "f0e98173",
   "metadata": {
    "papermill": {
     "duration": 0.038245,
     "end_time": "2022-03-29T12:39:37.705195",
     "exception": false,
     "start_time": "2022-03-29T12:39:37.666950",
     "status": "completed"
    },
    "tags": []
   },
   "source": [
    "# Kesimpulan\n",
    "Dengan membagi cluster menjadi 3 bagian (baik, cukup, dan kurang), kita dapat melakukan *treatment* yang berbeda-beda tergantung cluster, sebagai contoh:  \n",
    "* Cluster 0 (baik), pengajar dapat meningkatkan tingkat kesulitan belajar siswa\n",
    "* Cluster 1 (kurang), pengajar dapat menambah jam belajar dan memperbanyak tes persiapan\n",
    "* Cluster 2 (cukup), pengajar dapat memberikan tes latihan soal lebih banyak \n",
    "\n",
    "Tentunya *treatment-treatment* di atas tergantung kebijakan para pengajar."
   ]
  }
 ],
 "metadata": {
  "kernelspec": {
   "display_name": "Python 3",
   "language": "python",
   "name": "python3"
  },
  "language_info": {
   "codemirror_mode": {
    "name": "ipython",
    "version": 3
   },
   "file_extension": ".py",
   "mimetype": "text/x-python",
   "name": "python",
   "nbconvert_exporter": "python",
   "pygments_lexer": "ipython3",
   "version": "3.7.12"
  },
  "papermill": {
   "default_parameters": {},
   "duration": 28.527166,
   "end_time": "2022-03-29T12:39:38.654482",
   "environment_variables": {},
   "exception": null,
   "input_path": "__notebook__.ipynb",
   "output_path": "__notebook__.ipynb",
   "parameters": {},
   "start_time": "2022-03-29T12:39:10.127316",
   "version": "2.3.3"
  }
 },
 "nbformat": 4,
 "nbformat_minor": 5
}
